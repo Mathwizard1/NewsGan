{
 "cells": [
  {
   "cell_type": "code",
   "execution_count": 47,
   "metadata": {},
   "outputs": [],
   "source": [
    "# ! pip install torch transformers peft pandas  tqdm"
   ]
  },
  {
   "cell_type": "code",
   "execution_count": 48,
   "metadata": {},
   "outputs": [
    {
     "name": "stdout",
     "output_type": "stream",
     "text": [
      "cpu\n"
     ]
    }
   ],
   "source": [
    "import torch\n",
    "import torch.nn as nn\n",
    "import torch.optim as optim\n",
    "\n",
    "from transformers import AutoModelForSequenceClassification, AutoModelForCausalLM, AutoTokenizer\n",
    "from peft import PeftModel, LoraConfig, get_peft_model\n",
    "from tqdm import tqdm\n",
    "\n",
    "from torch.nn.utils.rnn import pad_sequence\n",
    "from torch.nn.utils import clip_grad_norm_\n",
    "from torch.utils.data import DataLoader, Dataset\n",
    "\n",
    "import os\n",
    "import pandas as pd\n",
    "\n",
    "MY_DEVICE = torch.device(\"cuda\" if torch.cuda.is_available() else \"cpu\")\n",
    "print(MY_DEVICE)"
   ]
  },
  {
   "cell_type": "code",
   "execution_count": 49,
   "metadata": {},
   "outputs": [
    {
     "name": "stderr",
     "output_type": "stream",
     "text": [
      "'nvidia-smi' is not recognized as an internal or external command,\n",
      "operable program or batch file.\n"
     ]
    }
   ],
   "source": [
    "!nvidia-smi"
   ]
  },
  {
   "cell_type": "code",
   "execution_count": null,
   "metadata": {},
   "outputs": [
    {
     "name": "stdout",
     "output_type": "stream",
     "text": [
      "Mathwizard1\n"
     ]
    }
   ],
   "source": [
    "from huggingface_hub import login\n",
    "login('')\n",
    "!huggingface-cli whoami"
   ]
  },
  {
   "cell_type": "code",
   "execution_count": 51,
   "metadata": {},
   "outputs": [],
   "source": [
    "MY_ADAPTERS = {\n",
    "    #\"Politeness\": ({0: \"Not-polite\", 1: \"Polite\"}, {\"Not-polite\": 0, \"Polite\": 1}), \n",
    "    #\"Toxicity\": ({0: \"Non-Toxic\", 1: \"Toxic\"}, {\"Non-Toxic\": 0, \"Toxic\": 1}), \n",
    "    #\"Fluency\": ({0: \"Not-Fluent\", 1: \"Fluent\"}, {\"Not-Fluent\": 0, \"Fluent\": 1}), \n",
    "    #\"Convincing\": ({0: \"Non-convincing\", 1: \"Convincing\"}, {\"Non-convincing\": 0, \"Convincing\": 1}),\n",
    "    #\"Factual\": ({0: \"fake-news\", 1: \"real-news\"}, {\"fake-news\": 0, \"real-news\": 1})\n",
    "}\n",
    "\n",
    "\n",
    "D_TYPE = torch.bfloat16\n",
    "SAVE_DIR = \"MultiDiscriModel\"\n",
    "\n",
    "# Selected Hyperparameters\n",
    "MAX_SEQUENCE_LENGTH = 512\n",
    "TRUNCATION = True\n",
    "PADDING = \"max_length\"\n",
    "RETURN_TENSORS = \"pt\"\n",
    "PADDING_SIDE= \"right\"\n",
    "\n",
    "model_id = \"meta-llama/Llama-3.2-1B-Instruct\"\n",
    "tokenizer_id = model_id\n",
    "\n",
    "####################################\n",
    "if(not os.path.exists(SAVE_DIR)):\n",
    "    os.mkdir(SAVE_DIR)"
   ]
  },
  {
   "cell_type": "code",
   "execution_count": 52,
   "metadata": {},
   "outputs": [],
   "source": [
    "generator = AutoModelForCausalLM.from_pretrained(\n",
    "        model_id, \n",
    "        torch_dtype= D_TYPE,\n",
    "        max_length = MAX_SEQUENCE_LENGTH,\n",
    "        )\n",
    "\n",
    "generator.config.use_cache= True"
   ]
  },
  {
   "cell_type": "code",
   "execution_count": 53,
   "metadata": {},
   "outputs": [
    {
     "name": "stdout",
     "output_type": "stream",
     "text": [
      "Memory footprint: 2471.63 MB\n"
     ]
    }
   ],
   "source": [
    "print(f\"Memory footprint: {generator.get_memory_footprint() / 1e6:.2f} MB\")"
   ]
  },
  {
   "cell_type": "code",
   "execution_count": 54,
   "metadata": {},
   "outputs": [],
   "source": [
    "tokenizer = AutoTokenizer.from_pretrained(\n",
    "        tokenizer_id,\n",
    "        padding_side= \"right\")"
   ]
  },
  {
   "cell_type": "code",
   "execution_count": 55,
   "metadata": {},
   "outputs": [
    {
     "name": "stdout",
     "output_type": "stream",
     "text": [
      "BOS token: <|begin_of_text|>, ID: 128000\n",
      "EOS token: <|eot_id|>, ID: 128009\n",
      "CLS token: None, ID: None\n",
      "SEP token: None, ID: None\n",
      "PAD token: None, ID: None\n",
      "UNK token: None, ID: None\n",
      "MASK token: None, ID: None\n",
      "PAD token: <|eot_id|>, ID: 128009\n"
     ]
    }
   ],
   "source": [
    "# Access special tokens and their IDs\n",
    "print(f\"BOS token: {tokenizer.bos_token}, ID: {tokenizer.bos_token_id}\")\n",
    "print(f\"EOS token: {tokenizer.eos_token}, ID: {tokenizer.eos_token_id}\")\n",
    "print(f\"CLS token: {tokenizer.cls_token}, ID: {tokenizer.cls_token_id}\")\n",
    "print(f\"SEP token: {tokenizer.sep_token}, ID: {tokenizer.sep_token_id}\")\n",
    "print(f\"PAD token: {tokenizer.pad_token}, ID: {tokenizer.pad_token_id}\")\n",
    "print(f\"UNK token: {tokenizer.unk_token}, ID: {tokenizer.unk_token_id}\")\n",
    "print(f\"MASK token: {tokenizer.mask_token}, ID: {tokenizer.mask_token_id}\")\n",
    "\n",
    "# Set the end of string tokens\n",
    "if(tokenizer.pad_token is None):\n",
    "    tokenizer.pad_token_id = tokenizer.eos_token_id\n",
    "    tokenizer.pad_token = tokenizer.eos_token\n",
    "    print(f\"PAD token: {tokenizer.pad_token}, ID: {tokenizer.pad_token_id}\")"
   ]
  },
  {
   "cell_type": "code",
   "execution_count": 56,
   "metadata": {},
   "outputs": [
    {
     "name": "stdout",
     "output_type": "stream",
     "text": [
      "128009\n"
     ]
    }
   ],
   "source": [
    "def set_padding(model):\n",
    "    model.config.pad_token_id = tokenizer.pad_token_id\n",
    "    model.config.pad_token = tokenizer.pad_token\n",
    "\n",
    "set_padding(generator)\n",
    "print(generator.config.pad_token_id)"
   ]
  },
  {
   "cell_type": "code",
   "execution_count": 57,
   "metadata": {},
   "outputs": [
    {
     "name": "stdout",
     "output_type": "stream",
     "text": [
      "trainable params: 6,815,744 || all params: 1,242,630,144 || trainable%: 0.5485\n"
     ]
    }
   ],
   "source": [
    "# === Apply LoRA ===\n",
    "lora_config = LoraConfig(\n",
    "    r= 64,                                    # Rank\n",
    "    lora_alpha= 128,                          # Scaling factor\n",
    "    target_modules=[\"q_proj\", \"v_proj\"],    # Typical for LLaMA models\n",
    "    lora_dropout= 0.05,\n",
    "    bias=\"none\",\n",
    "    task_type=\"CAUSAL_LM\",        \n",
    ")\n",
    "\n",
    "generator = get_peft_model(generator, lora_config)\n",
    "generator.print_trainable_parameters()"
   ]
  },
  {
   "cell_type": "code",
   "execution_count": 58,
   "metadata": {},
   "outputs": [],
   "source": [
    "discriminators = []\n",
    "for adapter in MY_ADAPTERS:\n",
    "    ID2LABEL, LABEL2ID = MY_ADAPTERS[adapter]\n",
    "\n",
    "    discriminator = AutoModelForSequenceClassification.from_pretrained(\n",
    "        model_id, \n",
    "        torch_dtype= D_TYPE,\n",
    "        max_length = MAX_SEQUENCE_LENGTH,\n",
    "\n",
    "        # Model label map\n",
    "        num_labels= 2,\n",
    "        id2label= ID2LABEL,\n",
    "        label2id= LABEL2ID,\n",
    "        )\n",
    "    \n",
    "    #discriminator = get_peft_model()\n",
    "    discriminators.append((discriminator, adapter))"
   ]
  },
  {
   "cell_type": "code",
   "execution_count": 59,
   "metadata": {},
   "outputs": [],
   "source": [
    "Extra_prompts = {\n",
    "    \"Politeness\": \"Check for words like Thank you, Please, Welcome, very much, and other words of gratitude, courtesy and politeness.\", \n",
    "    \"Toxicity\": \"Check for presence of any Toxic, Hateful, Targeted, or any form of speech or profanity aimed to hurt sentiments.\", \n",
    "    \"Fluency\": \"Check for bad grammar, spelling mistakes, unintelligible or incomprehensible words and sentences. Keep check for brevity, clarity and unity between the statements.\", \n",
    "    \"Factual\": \"Give more attention to named entity, dates and numbers, general facts, consistent statements.\",\n",
    "    \"Convincing\": \"Check if the statement seems convincing to the user in terms of language and message to inform the user.\"\n",
    "}\n",
    "\n",
    "def prompt_template(sentence: str, adapter: str):\n",
    "    ID2LABEL, _ = MY_ADAPTERS[adapter]\n",
    "\n",
    "    return f'''  \n",
    "    Classification: 0 for {ID2LABEL[0]} and 1 for {ID2LABEL[1]}.\n",
    "    {Extra_prompts[adapter]}\n",
    "    Sentence => {sentence}\n",
    "    '''"
   ]
  },
  {
   "cell_type": "code",
   "execution_count": 60,
   "metadata": {},
   "outputs": [],
   "source": [
    "def input_prompt(sentence: str):\n",
    "    return f'''\n",
    "Craft a single, polite paragraph addressing misinformation neutrally. Use verifiable facts to respectfully correct false claims and highlight inconsistencies.\n",
    "Explain the harm of misinformation and the value of evidence-based thinking. Maintain a kind, non-toxic tone focused solely on facts.\n",
    "Conclude by encouraging critical thinking and reliance on verified information. Refer to the fake news to stay relevant to the topic.\n",
    "    fake news: {sentence}\n",
    "    counter narrative:\n",
    "    '''"
   ]
  },
  {
   "cell_type": "code",
   "execution_count": 61,
   "metadata": {},
   "outputs": [],
   "source": [
    "####################################\n",
    "# Training Parameters\n",
    "LEARNING_RATE = 2e-4\n",
    "WEIGHT_DECAY = 0.001\n",
    "\n",
    "BATCH_SIZE = 8  # Increased for stability\n",
    "NUMBER_OF_EPOCHS = 20\n",
    "\n",
    "GRAD_CLIP = 1.0  # Added for stability\n",
    "\n",
    "CLEAR_CACHE = False\n",
    "####################################\n",
    "TRAIN_DATA_PATH = 'final_dataset.csv'\n",
    "RAND_SHUFFLE = False\n",
    "NUM_ROWS = 2"
   ]
  },
  {
   "cell_type": "code",
   "execution_count": 62,
   "metadata": {},
   "outputs": [],
   "source": [
    "# Dataset class\n",
    "class TextDataset(Dataset):\n",
    "    def __init__(self, dataframe_addrs, max_length=128, num_rows= None):\n",
    "        dataframe = pd.read_csv(dataframe_addrs)\n",
    "        if(num_rows):\n",
    "            dataframe = pd.read_csv(dataframe_addrs, nrows= num_rows)\n",
    "            \n",
    "        print(dataframe.shape)\n",
    "        self.length = len(dataframe)\n",
    "\n",
    "        self.prompts = dataframe['fake_news']\n",
    "        self.targets = dataframe['counter_narrative_with_facts']\n",
    "\n",
    "        self.max_length = max_length\n",
    "\n",
    "    def __len__(self):\n",
    "        return self.length\n",
    "\n",
    "    def __getitem__(self, idx):\n",
    "        prompt = input_prompt(self.prompts[idx])\n",
    "        target = self.targets[idx]\n",
    "\n",
    "        prompt_ids = tokenizer.encode(prompt, add_special_tokens=True)\n",
    "        target_ids = tokenizer.encode(target, add_special_tokens=False)\n",
    "\n",
    "        input_ids = prompt_ids + target_ids\n",
    "        attention_mask = [1] * len(input_ids)\n",
    "\n",
    "        labels = [-100] * len(prompt_ids) + target_ids\n",
    "\n",
    "        padding_length = self.max_length - len(input_ids)\n",
    "        if padding_length > 0:\n",
    "            input_ids += [tokenizer.pad_token_id] * padding_length\n",
    "            attention_mask += [0] * padding_length\n",
    "            labels += [-100] * padding_length\n",
    "        else:\n",
    "            input_ids = input_ids[:self.max_length]\n",
    "            attention_mask = attention_mask[:self.max_length]\n",
    "            labels = labels[:self.max_length]\n",
    "\n",
    "        return {\n",
    "            \"prompts\": prompt,\n",
    "            \"input_ids\": torch.tensor(input_ids),\n",
    "            \"attention_mask\": torch.tensor(attention_mask),\n",
    "            \"labels\": torch.tensor(labels),\n",
    "        }"
   ]
  },
  {
   "cell_type": "code",
   "execution_count": 63,
   "metadata": {},
   "outputs": [
    {
     "name": "stdout",
     "output_type": "stream",
     "text": [
      "(2, 2)\n",
      "torch.Size([2, 512])\n",
      "torch.Size([2, 512])\n",
      "torch.Size([2, 512])\n"
     ]
    }
   ],
   "source": [
    "####################################\n",
    "sentence_loader = DataLoader(\n",
    "            TextDataset(TRAIN_DATA_PATH, max_length= MAX_SEQUENCE_LENGTH, num_rows= NUM_ROWS), \n",
    "            batch_size= BATCH_SIZE, shuffle= RAND_SHUFFLE,\n",
    "\n",
    "            # Access data from CPU faster\n",
    "            pin_memory= True,\n",
    "            )\n",
    "\n",
    "\n",
    "for batch in sentence_loader:\n",
    "    print(batch['input_ids'].shape)\n",
    "    print(batch['attention_mask'].shape)\n",
    "    print(batch['labels'].shape)\n",
    "    break"
   ]
  },
  {
   "cell_type": "code",
   "execution_count": 64,
   "metadata": {},
   "outputs": [
    {
     "name": "stdout",
     "output_type": "stream",
     "text": [
      "torch.Size([2, 512])\n",
      "<|begin_of_text|>\n",
      "Craft a single, polite paragraph addressing misinformation neutrally. Use verifiable facts to respectfully correct false claims and highlight inconsistencies.\n",
      "Explain the harm of misinformation and the value of evidence-based thinking. Maintain a kind, non-toxic tone focused solely on facts.\n",
      "Conclude by encouraging critical thinking and reliance on verified information. Refer to the fake news to stay relevant to the topic.\n",
      "    fake news: [\n",
      "     'A Russian sex worker said Donald Trump was one of her clients and that he has a small penis. A 22-year sex worker named Ivana Kamensky, claims she was one of the prostitutes who had sexual intercourse with Donald Trump in Moscow in 2011, adding that the American President had the smallest penis she had ever seen. In an interview with the Moscow Daily Herald, the young woman described in great details the night that she allegedly spent in Mr Trump's hotel room five years ago, claiming she was hired by Donald Trump along with two of her friends to perform several degrading sex acts, like urinating on him and on each other. She said that she had been shocked by the incredibly small size of his penis, and remembers laughing about it with the other two girls She described Mr.Trump's genitals as being the size of a grape, barely one inch (2.5cm) long when fully erect.',\n",
      "    counter narrative:\n",
      "    Hello everyone,\n",
      "\n",
      "I hope this message finds you well. I understand that it's easy to get caught up in the whirlwind of news and information that circulates online, and I appreciate your efforts to stay informed.\n",
      "\n",
      "I wanted to take a moment to talk about a recent story that has been making the rounds. You might have come across a claim suggesting that Donald Trump was involved in a compromising situation with a Russian sex worker. It's important to address this and set the record straight. Reliable fact-checking sources have thoroughly investigated this story and found it to be unfounded. The claim appears to have originated from a website that unfortunately has a history of sharing fabricated news. Additionally, the photographs that have been associated with this story were actually taken from completely unrelated events, including a 2016 incident involving a false accusation against former New York State Gov. Eliot Spitzer.\n",
      "\n",
      "Misinformation can be quite harmful as it leads to confusion and diminishes trust in our key institutions. It's vital for all of us to base our understanding on verifiable facts and evidence-based thinking. There is no evidence supporting the claim about Mr. Trump, and it's crucial for us to approach online information\n",
      "<|begin_of_text|>\n",
      "Craft a single, polite paragraph addressing misinformation neutrally. Use verifiable facts to respectfully correct false claims and highlight inconsistencies.\n",
      "Explain the harm of misinformation and the value of evidence-based thinking. Maintain a kind, non-toxic tone focused solely on facts.\n",
      "Conclude by encouraging critical thinking and reliance on verified information. Refer to the fake news to stay relevant to the topic.\n",
      "    fake news: [\n",
      "     \"George Soros Said: I'm Going to Bring Down the U.S. by Funding Black Hate Groups'? George Soros said that he funded the Black Lives Matter movement because he wanted to 'bring down the United States' and 'the black community is the easiest to manipulate.' In August 2016, a graphic featuring a picture of billionaire George Soros next to a quote ostensibly uttered by him about his goal to 'bring down the United States by funding Black Hate groups' began circulating via social media. This image indicated that the business magnate and political activist made this comment during the course of an interview with the Germany newspaper Bild in September 2014. 'I'm going to bring down the United States by funding Black Hate groups. We'll put them into a mental trap and make them blame white people. The Black community is the easiest to manipulate.' - George Soros (Interview with Germany's BILD - Sept. 2014)\"\n",
      "    counter narrative:\n",
      "    Hello! I hope this message finds you well. I understand that it's easy to get caught up in the vast amount of information available online, and I appreciate your interest in staying informed.\n",
      "\n",
      "I'd like to address a concerning claim that's been circulating about George Soros. You might have seen a graphic online featuring a picture of Soros with a quote that suggests he aims to \"bring down the United States\" by funding \"Black Hate groups.\" However, after looking into this, we found no evidence to back up this claim. The quote was allegedly from an interview published in Germany's Bild newspaper in September 2014, but there's nothing in their archives to support this. In fact, the first time this quote appeared was on a Tumblr page in August 2016, almost two years later. This discrepancy in dates and the absence of original documentation cast serious doubts on the authenticity of the statement.\n",
      "\n",
      "It's also important to highlight that George Soros has been known for his philanthropic efforts aimed at promoting social justice and human rights, which tells a different story than the one being shared. Unfortunately, this kind of misinformation often relies on citing false sources to seem legitimate.\n",
      "\n",
      "Please, let's\n"
     ]
    }
   ],
   "source": [
    "def check_decodeprompt():\n",
    "    for batch in sentence_loader:\n",
    "        print(batch['input_ids'].shape)\n",
    "        # print(batch['attention_mask'])\n",
    "\n",
    "        for sentence in tokenizer.batch_decode(batch['input_ids']):\n",
    "            print(str(sentence))\n",
    "        break\n",
    "check_decodeprompt()"
   ]
  },
  {
   "cell_type": "code",
   "execution_count": 65,
   "metadata": {},
   "outputs": [],
   "source": [
    "####################################\n",
    "# Loss function and optimizer\n",
    "criterion = nn.CrossEntropyLoss()\n",
    "optimizer = optim.AdamW(generator.parameters(), lr= LEARNING_RATE, weight_decay= WEIGHT_DECAY)"
   ]
  },
  {
   "cell_type": "code",
   "execution_count": 66,
   "metadata": {},
   "outputs": [
    {
     "name": "stderr",
     "output_type": "stream",
     "text": [
      "  0%|          | 0/1 [00:00<?, ?it/s]Setting `pad_token_id` to `eos_token_id`:128001 for open-end generation.\n",
      "  0%|          | 0/1 [06:17<?, ?it/s]"
     ]
    },
    {
     "name": "stdout",
     "output_type": "stream",
     "text": [
      "[\"\\nCraft a single, polite paragraph addressing misinformation neutrally. Use verifiable facts to respectfully correct false claims and highlight inconsistencies.\\nExplain the harm of misinformation and the value of evidence-based thinking. Maintain a kind, non-toxic tone focused solely on facts.\\nConclude by encouraging critical thinking and reliance on verified information. Refer to the fake news to stay relevant to the topic.\\n    fake news: [\\n     'A Russian sex worker said Donald Trump was one of her clients and that he has a small penis. A 22-year sex worker named Ivana Kamensky, claims she was one of the prostitutes who had sexual intercourse with Donald Trump in Moscow in 2011, adding that the American President had the smallest penis she had ever seen. In an interview with the Moscow Daily Herald, the young woman described in great details the night that she allegedly spent in Mr Trump's hotel room five years ago, claiming she was hired by Donald Trump along with two of her friends to perform several degrading sex acts, like urinating on him and on each other. She said that she had been shocked by the incredibly small size of his penis, and remembers laughing about it with the other two girls She described Mr.Trump's genitals as being the size of a grape, barely one inch (2.5cm) long when fully erect.',\\n    counter narrative:\\n    \", '\\nCraft a single, polite paragraph addressing misinformation neutrally. Use verifiable facts to respectfully correct false claims and highlight inconsistencies.\\nExplain the harm of misinformation and the value of evidence-based thinking. Maintain a kind, non-toxic tone focused solely on facts.\\nConclude by encouraging critical thinking and reliance on verified information. Refer to the fake news to stay relevant to the topic.\\n    fake news: [\\n     \"George Soros Said: I\\'m Going to Bring Down the U.S. by Funding Black Hate Groups\\'? George Soros said that he funded the Black Lives Matter movement because he wanted to \\'bring down the United States\\' and \\'the black community is the easiest to manipulate.\\' In August 2016, a graphic featuring a picture of billionaire George Soros next to a quote ostensibly uttered by him about his goal to \\'bring down the United States by funding Black Hate groups\\' began circulating via social media. This image indicated that the business magnate and political activist made this comment during the course of an interview with the Germany newspaper Bild in September 2014. \\'I\\'m going to bring down the United States by funding Black Hate groups. We\\'ll put them into a mental trap and make them blame white people. The Black community is the easiest to manipulate.\\' - George Soros (Interview with Germany\\'s BILD - Sept. 2014)\"\\n    counter narrative:\\n    ']\n",
      "Epoch 1/20 - Loss: 0.0000\n"
     ]
    },
    {
     "name": "stderr",
     "output_type": "stream",
     "text": [
      "\n"
     ]
    },
    {
     "name": "stdout",
     "output_type": "stream",
     "text": [
      "model saved after epoch 1\n"
     ]
    },
    {
     "name": "stderr",
     "output_type": "stream",
     "text": [
      "  0%|          | 0/1 [00:00<?, ?it/s]Setting `pad_token_id` to `eos_token_id`:128001 for open-end generation.\n",
      "  0%|          | 0/1 [05:46<?, ?it/s]\n"
     ]
    },
    {
     "name": "stdout",
     "output_type": "stream",
     "text": [
      "[\"\\nCraft a single, polite paragraph addressing misinformation neutrally. Use verifiable facts to respectfully correct false claims and highlight inconsistencies.\\nExplain the harm of misinformation and the value of evidence-based thinking. Maintain a kind, non-toxic tone focused solely on facts.\\nConclude by encouraging critical thinking and reliance on verified information. Refer to the fake news to stay relevant to the topic.\\n    fake news: [\\n     'A Russian sex worker said Donald Trump was one of her clients and that he has a small penis. A 22-year sex worker named Ivana Kamensky, claims she was one of the prostitutes who had sexual intercourse with Donald Trump in Moscow in 2011, adding that the American President had the smallest penis she had ever seen. In an interview with the Moscow Daily Herald, the young woman described in great details the night that she allegedly spent in Mr Trump's hotel room five years ago, claiming she was hired by Donald Trump along with two of her friends to perform several degrading sex acts, like urinating on him and on each other. She said that she had been shocked by the incredibly small size of his penis, and remembers laughing about it with the other two girls She described Mr.Trump's genitals as being the size of a grape, barely one inch (2.5cm) long when fully erect.',\\n    counter narrative:\\n    \", '\\nCraft a single, polite paragraph addressing misinformation neutrally. Use verifiable facts to respectfully correct false claims and highlight inconsistencies.\\nExplain the harm of misinformation and the value of evidence-based thinking. Maintain a kind, non-toxic tone focused solely on facts.\\nConclude by encouraging critical thinking and reliance on verified information. Refer to the fake news to stay relevant to the topic.\\n    fake news: [\\n     \"George Soros Said: I\\'m Going to Bring Down the U.S. by Funding Black Hate Groups\\'? George Soros said that he funded the Black Lives Matter movement because he wanted to \\'bring down the United States\\' and \\'the black community is the easiest to manipulate.\\' In August 2016, a graphic featuring a picture of billionaire George Soros next to a quote ostensibly uttered by him about his goal to \\'bring down the United States by funding Black Hate groups\\' began circulating via social media. This image indicated that the business magnate and political activist made this comment during the course of an interview with the Germany newspaper Bild in September 2014. \\'I\\'m going to bring down the United States by funding Black Hate groups. We\\'ll put them into a mental trap and make them blame white people. The Black community is the easiest to manipulate.\\' - George Soros (Interview with Germany\\'s BILD - Sept. 2014)\"\\n    counter narrative:\\n    assistant?\\n\\nHere is a revised paragraph that addresses misinformation neutrally, uses verifiable facts to respectfully correct false claims, highlights inconsistencies, explains the harm of misinformation, and encourages critical thinking and reliance on verified information:\\n\\nI wanted to address a recent article that claimed George Soros was quoted saying he would bring down the United States by funding Black Hate groups. However, this claim appears to be based on a misquote and a manipulated image. The original quote was taken from an interview with Germany\\'s BILD newspaper in September 2014, where Soros stated, \\'I\\'m going to bring down the United States by funding Black Hate groups. We\\'ll put them into a mental trap and make them blame white people.\\' This quote has been widely shared and distorted to suggest Soros is promoting hate and violence against the black community. In reality, Soros has consistently advocated for human rights and social justice, and his efforts have been focused on addressing economic inequality and promoting democracy worldwide.\\n\\nThe harm of misinformation is clear: it can lead to the spread of false information, the erosion of trust in institutions, and the perpetuation of stereotypes and prejudices. By relying on verifiable facts and evidence-based thinking, we can navigate complex issues and make informed decisions. Encouraging critical thinking and fact-checking can help us identify misinformation and promote a more nuanced understanding of the world. By staying informed through reputable sources and engaging in respectful dialogue, we can build a more informed and empathetic community.\\n\\nI would like to note that the fake news article appears to be a prime example of misinformation, as it misrepresents a quote from George Soros and manipulates an image to support a false narrative. By correcting this misinformation, we can promote a more accurate understanding of the facts and encourage critical thinking and fact-checking.']\n",
      "Epoch 2/20 - Loss: 0.0000\n"
     ]
    },
    {
     "name": "stderr",
     "output_type": "stream",
     "text": [
      "  0%|          | 0/1 [00:00<?, ?it/s]Setting `pad_token_id` to `eos_token_id`:128001 for open-end generation.\n",
      "  0%|          | 0/1 [06:17<?, ?it/s]\n"
     ]
    },
    {
     "name": "stdout",
     "output_type": "stream",
     "text": [
      "[\"\\nCraft a single, polite paragraph addressing misinformation neutrally. Use verifiable facts to respectfully correct false claims and highlight inconsistencies.\\nExplain the harm of misinformation and the value of evidence-based thinking. Maintain a kind, non-toxic tone focused solely on facts.\\nConclude by encouraging critical thinking and reliance on verified information. Refer to the fake news to stay relevant to the topic.\\n    fake news: [\\n     'A Russian sex worker said Donald Trump was one of her clients and that he has a small penis. A 22-year sex worker named Ivana Kamensky, claims she was one of the prostitutes who had sexual intercourse with Donald Trump in Moscow in 2011, adding that the American President had the smallest penis she had ever seen. In an interview with the Moscow Daily Herald, the young woman described in great details the night that she allegedly spent in Mr Trump's hotel room five years ago, claiming she was hired by Donald Trump along with two of her friends to perform several degrading sex acts, like urinating on him and on each other. She said that she had been shocked by the incredibly small size of his penis, and remembers laughing about it with the other two girls She described Mr.Trump's genitals as being the size of a grape, barely one inch (2.5cm) long when fully erect.',\\n    counter narrative:\\n    \", '\\nCraft a single, polite paragraph addressing misinformation neutrally. Use verifiable facts to respectfully correct false claims and highlight inconsistencies.\\nExplain the harm of misinformation and the value of evidence-based thinking. Maintain a kind, non-toxic tone focused solely on facts.\\nConclude by encouraging critical thinking and reliance on verified information. Refer to the fake news to stay relevant to the topic.\\n    fake news: [\\n     \"George Soros Said: I\\'m Going to Bring Down the U.S. by Funding Black Hate Groups\\'? George Soros said that he funded the Black Lives Matter movement because he wanted to \\'bring down the United States\\' and \\'the black community is the easiest to manipulate.\\' In August 2016, a graphic featuring a picture of billionaire George Soros next to a quote ostensibly uttered by him about his goal to \\'bring down the United States by funding Black Hate groups\\' began circulating via social media. This image indicated that the business magnate and political activist made this comment during the course of an interview with the Germany newspaper Bild in September 2014. \\'I\\'m going to bring down the United States by funding Black Hate groups. We\\'ll put them into a mental trap and make them blame white people. The Black community is the easiest to manipulate.\\' - George Soros (Interview with Germany\\'s BILD - Sept. 2014)\"\\n    counter narrative:\\n    ']\n",
      "Epoch 3/20 - Loss: 0.0000\n"
     ]
    },
    {
     "name": "stderr",
     "output_type": "stream",
     "text": [
      "  0%|          | 0/1 [00:00<?, ?it/s]Setting `pad_token_id` to `eos_token_id`:128001 for open-end generation.\n",
      "  0%|          | 0/1 [05:19<?, ?it/s]\n"
     ]
    },
    {
     "name": "stdout",
     "output_type": "stream",
     "text": [
      "[\"\\nCraft a single, polite paragraph addressing misinformation neutrally. Use verifiable facts to respectfully correct false claims and highlight inconsistencies.\\nExplain the harm of misinformation and the value of evidence-based thinking. Maintain a kind, non-toxic tone focused solely on facts.\\nConclude by encouraging critical thinking and reliance on verified information. Refer to the fake news to stay relevant to the topic.\\n    fake news: [\\n     'A Russian sex worker said Donald Trump was one of her clients and that he has a small penis. A 22-year sex worker named Ivana Kamensky, claims she was one of the prostitutes who had sexual intercourse with Donald Trump in Moscow in 2011, adding that the American President had the smallest penis she had ever seen. In an interview with the Moscow Daily Herald, the young woman described in great details the night that she allegedly spent in Mr Trump's hotel room five years ago, claiming she was hired by Donald Trump along with two of her friends to perform several degrading sex acts, like urinating on him and on each other. She said that she had been shocked by the incredibly small size of his penis, and remembers laughing about it with the other two girls She described Mr.Trump's genitals as being the size of a grape, barely one inch (2.5cm) long when fully erect.',\\n    counter narrative:\\n    \", '\\nCraft a single, polite paragraph addressing misinformation neutrally. Use verifiable facts to respectfully correct false claims and highlight inconsistencies.\\nExplain the harm of misinformation and the value of evidence-based thinking. Maintain a kind, non-toxic tone focused solely on facts.\\nConclude by encouraging critical thinking and reliance on verified information. Refer to the fake news to stay relevant to the topic.\\n    fake news: [\\n     \"George Soros Said: I\\'m Going to Bring Down the U.S. by Funding Black Hate Groups\\'? George Soros said that he funded the Black Lives Matter movement because he wanted to \\'bring down the United States\\' and \\'the black community is the easiest to manipulate.\\' In August 2016, a graphic featuring a picture of billionaire George Soros next to a quote ostensibly uttered by him about his goal to \\'bring down the United States by funding Black Hate groups\\' began circulating via social media. This image indicated that the business magnate and political activist made this comment during the course of an interview with the Germany newspaper Bild in September 2014. \\'I\\'m going to bring down the United States by funding Black Hate groups. We\\'ll put them into a mental trap and make them blame white people. The Black community is the easiest to manipulate.\\' - George Soros (Interview with Germany\\'s BILD - Sept. 2014)\"\\n    counter narrative:\\n    ']\n",
      "Epoch 4/20 - Loss: 0.0000\n"
     ]
    },
    {
     "name": "stderr",
     "output_type": "stream",
     "text": [
      "  0%|          | 0/1 [00:00<?, ?it/s]Setting `pad_token_id` to `eos_token_id`:128001 for open-end generation.\n",
      "  0%|          | 0/1 [05:04<?, ?it/s]\n"
     ]
    },
    {
     "name": "stdout",
     "output_type": "stream",
     "text": [
      "[\"\\nCraft a single, polite paragraph addressing misinformation neutrally. Use verifiable facts to respectfully correct false claims and highlight inconsistencies.\\nExplain the harm of misinformation and the value of evidence-based thinking. Maintain a kind, non-toxic tone focused solely on facts.\\nConclude by encouraging critical thinking and reliance on verified information. Refer to the fake news to stay relevant to the topic.\\n    fake news: [\\n     'A Russian sex worker said Donald Trump was one of her clients and that he has a small penis. A 22-year sex worker named Ivana Kamensky, claims she was one of the prostitutes who had sexual intercourse with Donald Trump in Moscow in 2011, adding that the American President had the smallest penis she had ever seen. In an interview with the Moscow Daily Herald, the young woman described in great details the night that she allegedly spent in Mr Trump's hotel room five years ago, claiming she was hired by Donald Trump along with two of her friends to perform several degrading sex acts, like urinating on him and on each other. She said that she had been shocked by the incredibly small size of his penis, and remembers laughing about it with the other two girls She described Mr.Trump's genitals as being the size of a grape, barely one inch (2.5cm) long when fully erect.',\\n    counter narrative:\\n    \\n    The Russian sex worker's claims are false. Donald Trump has never been linked to any sex workers in Moscow. The Russian sex worker's account of the alleged encounter is also disputed and lacks corroboration. In fact, the Russian sex worker's claim about Trump's penis size is likely an exaggeration or fabrication. The Russian sex worker's story appears to be a work of fiction. The fake news article is a product of the Russian government's disinformation campaign aimed at undermining the credibility of the US presidential election. The article's claim about Ivana Kamensky's sex life is entirely fabricated. The claim about Trump's penis size is likely an invention of the fake news article. The fake news article is an example of how fake news can be used to manipulate public opinion and undermine trust in institutions. The article's claim about Ivana Kamensky's sex life is a clear example of disinformation. The article's claim about Trump's penis size is an exaggeration or fabrication. The article's claim about Ivana Kamensky's sex life is a clear example of disinformation. The article's claim about Trump's penis size is an exaggeration or fabrication. The article's claim about Ivana Kamensky's sex life is a clear example of disinformation. The article's claim about Trump's penis size is an exaggeration or fabrication. The article's claim about Ivana Kamensky's sex life is a clear example of disinformation. The article's claim about Trump's penis size is an exaggeration or fabrication. The article's claim about Ivana Kamensky's sex life is a clear example of disinformation. The article's claim about Trump's penis size is an exaggeration or fabrication. The article's claim about Ivana Kamensky's sex life is a clear example of disinformation. The article's claim about Trump's penis size is an exaggeration or fabrication. The article's claim about Ivana Kamensky's sex life is a clear example of disinformation. The article's claim about Trump's penis size is an exaggeration or fabrication. The article's claim about Ivana Kamensky's sex life is a clear example of disinformation. The article's claim about Trump's penis size is an exaggeration or fabrication. The article's claim about Ivana Kamensky's sex life is a clear example of disinformation. The article's claim about Trump's penis size is an exaggeration or fabrication. The article's claim about Ivana Kamensky's sex life is a clear\", '\\nCraft a single, polite paragraph addressing misinformation neutrally. Use verifiable facts to respectfully correct false claims and highlight inconsistencies.\\nExplain the harm of misinformation and the value of evidence-based thinking. Maintain a kind, non-toxic tone focused solely on facts.\\nConclude by encouraging critical thinking and reliance on verified information. Refer to the fake news to stay relevant to the topic.\\n    fake news: [\\n     \"George Soros Said: I\\'m Going to Bring Down the U.S. by Funding Black Hate Groups\\'? George Soros said that he funded the Black Lives Matter movement because he wanted to \\'bring down the United States\\' and \\'the black community is the easiest to manipulate.\\' In August 2016, a graphic featuring a picture of billionaire George Soros next to a quote ostensibly uttered by him about his goal to \\'bring down the United States by funding Black Hate groups\\' began circulating via social media. This image indicated that the business magnate and political activist made this comment during the course of an interview with the Germany newspaper Bild in September 2014. \\'I\\'m going to bring down the United States by funding Black Hate groups. We\\'ll put them into a mental trap and make them blame white people. The Black community is the easiest to manipulate.\\' - George Soros (Interview with Germany\\'s BILD - Sept. 2014)\"\\n    counter narrative:\\n    ']\n",
      "Epoch 5/20 - Loss: 0.0000\n"
     ]
    },
    {
     "name": "stderr",
     "output_type": "stream",
     "text": [
      "  0%|          | 0/1 [00:00<?, ?it/s]Setting `pad_token_id` to `eos_token_id`:128001 for open-end generation.\n",
      "  0%|          | 0/1 [06:11<?, ?it/s]\n"
     ]
    },
    {
     "name": "stdout",
     "output_type": "stream",
     "text": [
      "[\"\\nCraft a single, polite paragraph addressing misinformation neutrally. Use verifiable facts to respectfully correct false claims and highlight inconsistencies.\\nExplain the harm of misinformation and the value of evidence-based thinking. Maintain a kind, non-toxic tone focused solely on facts.\\nConclude by encouraging critical thinking and reliance on verified information. Refer to the fake news to stay relevant to the topic.\\n    fake news: [\\n     'A Russian sex worker said Donald Trump was one of her clients and that he has a small penis. A 22-year sex worker named Ivana Kamensky, claims she was one of the prostitutes who had sexual intercourse with Donald Trump in Moscow in 2011, adding that the American President had the smallest penis she had ever seen. In an interview with the Moscow Daily Herald, the young woman described in great details the night that she allegedly spent in Mr Trump's hotel room five years ago, claiming she was hired by Donald Trump along with two of her friends to perform several degrading sex acts, like urinating on him and on each other. She said that she had been shocked by the incredibly small size of his penis, and remembers laughing about it with the other two girls She described Mr.Trump's genitals as being the size of a grape, barely one inch (2.5cm) long when fully erect.',\\n    counter narrative:\\n    \", '\\nCraft a single, polite paragraph addressing misinformation neutrally. Use verifiable facts to respectfully correct false claims and highlight inconsistencies.\\nExplain the harm of misinformation and the value of evidence-based thinking. Maintain a kind, non-toxic tone focused solely on facts.\\nConclude by encouraging critical thinking and reliance on verified information. Refer to the fake news to stay relevant to the topic.\\n    fake news: [\\n     \"George Soros Said: I\\'m Going to Bring Down the U.S. by Funding Black Hate Groups\\'? George Soros said that he funded the Black Lives Matter movement because he wanted to \\'bring down the United States\\' and \\'the black community is the easiest to manipulate.\\' In August 2016, a graphic featuring a picture of billionaire George Soros next to a quote ostensibly uttered by him about his goal to \\'bring down the United States by funding Black Hate groups\\' began circulating via social media. This image indicated that the business magnate and political activist made this comment during the course of an interview with the Germany newspaper Bild in September 2014. \\'I\\'m going to bring down the United States by funding Black Hate groups. We\\'ll put them into a mental trap and make them blame white people. The Black community is the easiest to manipulate.\\' - George Soros (Interview with Germany\\'s BILD - Sept. 2014)\"\\n    counter narrative:\\n    ']\n",
      "Epoch 6/20 - Loss: 0.0000\n"
     ]
    },
    {
     "name": "stderr",
     "output_type": "stream",
     "text": [
      "  0%|          | 0/1 [00:00<?, ?it/s]Setting `pad_token_id` to `eos_token_id`:128001 for open-end generation.\n",
      "  0%|          | 0/1 [06:40<?, ?it/s]\n"
     ]
    },
    {
     "name": "stdout",
     "output_type": "stream",
     "text": [
      "[\"\\nCraft a single, polite paragraph addressing misinformation neutrally. Use verifiable facts to respectfully correct false claims and highlight inconsistencies.\\nExplain the harm of misinformation and the value of evidence-based thinking. Maintain a kind, non-toxic tone focused solely on facts.\\nConclude by encouraging critical thinking and reliance on verified information. Refer to the fake news to stay relevant to the topic.\\n    fake news: [\\n     'A Russian sex worker said Donald Trump was one of her clients and that he has a small penis. A 22-year sex worker named Ivana Kamensky, claims she was one of the prostitutes who had sexual intercourse with Donald Trump in Moscow in 2011, adding that the American President had the smallest penis she had ever seen. In an interview with the Moscow Daily Herald, the young woman described in great details the night that she allegedly spent in Mr Trump's hotel room five years ago, claiming she was hired by Donald Trump along with two of her friends to perform several degrading sex acts, like urinating on him and on each other. She said that she had been shocked by the incredibly small size of his penis, and remembers laughing about it with the other two girls She described Mr.Trump's genitals as being the size of a grape, barely one inch (2.5cm) long when fully erect.',\\n    counter narrative:\\n    \", '\\nCraft a single, polite paragraph addressing misinformation neutrally. Use verifiable facts to respectfully correct false claims and highlight inconsistencies.\\nExplain the harm of misinformation and the value of evidence-based thinking. Maintain a kind, non-toxic tone focused solely on facts.\\nConclude by encouraging critical thinking and reliance on verified information. Refer to the fake news to stay relevant to the topic.\\n    fake news: [\\n     \"George Soros Said: I\\'m Going to Bring Down the U.S. by Funding Black Hate Groups\\'? George Soros said that he funded the Black Lives Matter movement because he wanted to \\'bring down the United States\\' and \\'the black community is the easiest to manipulate.\\' In August 2016, a graphic featuring a picture of billionaire George Soros next to a quote ostensibly uttered by him about his goal to \\'bring down the United States by funding Black Hate groups\\' began circulating via social media. This image indicated that the business magnate and political activist made this comment during the course of an interview with the Germany newspaper Bild in September 2014. \\'I\\'m going to bring down the United States by funding Black Hate groups. We\\'ll put them into a mental trap and make them blame white people. The Black community is the easiest to manipulate.\\' - George Soros (Interview with Germany\\'s BILD - Sept. 2014)\"\\n    counter narrative:\\n    assistant?!\\n\\nHere is a rewritten paragraph addressing misinformation neutrally, using verifiable facts to respectfully correct false claims and highlight inconsistencies:\\n\\nIt\\'s essential to approach information with a critical eye, as misinformation can spread quickly and have significant consequences. False claims can be damaging to individuals, communities, and society as a whole. When evaluating information, it\\'s crucial to verify facts through reputable sources and consider the credibility of the source. In this case, the claim that George Soros said he wanted to \"bring down the United States by funding Black Hate groups\" is false. While Soros has indeed supported various social justice causes, there is no evidence to suggest he made such a statement. The claim appears to be a fabrication, and it\\'s essential to rely on verifiable information to avoid spreading misinformation.\\n\\nNote: I\\'ve avoided referencing the fake news article directly, as it\\'s not necessary to explicitly mention it. Instead, I\\'ve woven the information into the narrative, using verifiable facts to support the correction. This approach maintains a polite and informative tone, focusing solely on the facts and the consequences of misinformation.']\n",
      "Epoch 7/20 - Loss: 0.0000\n"
     ]
    },
    {
     "name": "stderr",
     "output_type": "stream",
     "text": [
      "  0%|          | 0/1 [00:00<?, ?it/s]Setting `pad_token_id` to `eos_token_id`:128001 for open-end generation.\n",
      "  0%|          | 0/1 [06:40<?, ?it/s]\n"
     ]
    },
    {
     "name": "stdout",
     "output_type": "stream",
     "text": [
      "[\"\\nCraft a single, polite paragraph addressing misinformation neutrally. Use verifiable facts to respectfully correct false claims and highlight inconsistencies.\\nExplain the harm of misinformation and the value of evidence-based thinking. Maintain a kind, non-toxic tone focused solely on facts.\\nConclude by encouraging critical thinking and reliance on verified information. Refer to the fake news to stay relevant to the topic.\\n    fake news: [\\n     'A Russian sex worker said Donald Trump was one of her clients and that he has a small penis. A 22-year sex worker named Ivana Kamensky, claims she was one of the prostitutes who had sexual intercourse with Donald Trump in Moscow in 2011, adding that the American President had the smallest penis she had ever seen. In an interview with the Moscow Daily Herald, the young woman described in great details the night that she allegedly spent in Mr Trump's hotel room five years ago, claiming she was hired by Donald Trump along with two of her friends to perform several degrading sex acts, like urinating on him and on each other. She said that she had been shocked by the incredibly small size of his penis, and remembers laughing about it with the other two girls She described Mr.Trump's genitals as being the size of a grape, barely one inch (2.5cm) long when fully erect.',\\n    counter narrative:\\n    \", '\\nCraft a single, polite paragraph addressing misinformation neutrally. Use verifiable facts to respectfully correct false claims and highlight inconsistencies.\\nExplain the harm of misinformation and the value of evidence-based thinking. Maintain a kind, non-toxic tone focused solely on facts.\\nConclude by encouraging critical thinking and reliance on verified information. Refer to the fake news to stay relevant to the topic.\\n    fake news: [\\n     \"George Soros Said: I\\'m Going to Bring Down the U.S. by Funding Black Hate Groups\\'? George Soros said that he funded the Black Lives Matter movement because he wanted to \\'bring down the United States\\' and \\'the black community is the easiest to manipulate.\\' In August 2016, a graphic featuring a picture of billionaire George Soros next to a quote ostensibly uttered by him about his goal to \\'bring down the United States by funding Black Hate groups\\' began circulating via social media. This image indicated that the business magnate and political activist made this comment during the course of an interview with the Germany newspaper Bild in September 2014. \\'I\\'m going to bring down the United States by funding Black Hate groups. We\\'ll put them into a mental trap and make them blame white people. The Black community is the easiest to manipulate.\\' - George Soros (Interview with Germany\\'s BILD - Sept. 2014)\"\\n    counter narrative:\\n    ']\n",
      "Epoch 8/20 - Loss: 0.0000\n"
     ]
    },
    {
     "name": "stderr",
     "output_type": "stream",
     "text": [
      "  0%|          | 0/1 [00:00<?, ?it/s]Setting `pad_token_id` to `eos_token_id`:128001 for open-end generation.\n",
      "  0%|          | 0/1 [06:30<?, ?it/s]\n"
     ]
    },
    {
     "name": "stdout",
     "output_type": "stream",
     "text": [
      "[\"\\nCraft a single, polite paragraph addressing misinformation neutrally. Use verifiable facts to respectfully correct false claims and highlight inconsistencies.\\nExplain the harm of misinformation and the value of evidence-based thinking. Maintain a kind, non-toxic tone focused solely on facts.\\nConclude by encouraging critical thinking and reliance on verified information. Refer to the fake news to stay relevant to the topic.\\n    fake news: [\\n     'A Russian sex worker said Donald Trump was one of her clients and that he has a small penis. A 22-year sex worker named Ivana Kamensky, claims she was one of the prostitutes who had sexual intercourse with Donald Trump in Moscow in 2011, adding that the American President had the smallest penis she had ever seen. In an interview with the Moscow Daily Herald, the young woman described in great details the night that she allegedly spent in Mr Trump's hotel room five years ago, claiming she was hired by Donald Trump along with two of her friends to perform several degrading sex acts, like urinating on him and on each other. She said that she had been shocked by the incredibly small size of his penis, and remembers laughing about it with the other two girls She described Mr.Trump's genitals as being the size of a grape, barely one inch (2.5cm) long when fully erect.',\\n    counter narrative:\\n    \", '\\nCraft a single, polite paragraph addressing misinformation neutrally. Use verifiable facts to respectfully correct false claims and highlight inconsistencies.\\nExplain the harm of misinformation and the value of evidence-based thinking. Maintain a kind, non-toxic tone focused solely on facts.\\nConclude by encouraging critical thinking and reliance on verified information. Refer to the fake news to stay relevant to the topic.\\n    fake news: [\\n     \"George Soros Said: I\\'m Going to Bring Down the U.S. by Funding Black Hate Groups\\'? George Soros said that he funded the Black Lives Matter movement because he wanted to \\'bring down the United States\\' and \\'the black community is the easiest to manipulate.\\' In August 2016, a graphic featuring a picture of billionaire George Soros next to a quote ostensibly uttered by him about his goal to \\'bring down the United States by funding Black Hate groups\\' began circulating via social media. This image indicated that the business magnate and political activist made this comment during the course of an interview with the Germany newspaper Bild in September 2014. \\'I\\'m going to bring down the United States by funding Black Hate groups. We\\'ll put them into a mental trap and make them blame white people. The Black community is the easiest to manipulate.\\' - George Soros (Interview with Germany\\'s BILD - Sept. 2014)\"\\n    counter narrative:\\n    ']\n",
      "Epoch 9/20 - Loss: 0.0000\n"
     ]
    },
    {
     "name": "stderr",
     "output_type": "stream",
     "text": [
      "  0%|          | 0/1 [00:00<?, ?it/s]Setting `pad_token_id` to `eos_token_id`:128001 for open-end generation.\n",
      "  0%|          | 0/1 [06:09<?, ?it/s]\n"
     ]
    },
    {
     "name": "stdout",
     "output_type": "stream",
     "text": [
      "[\"\\nCraft a single, polite paragraph addressing misinformation neutrally. Use verifiable facts to respectfully correct false claims and highlight inconsistencies.\\nExplain the harm of misinformation and the value of evidence-based thinking. Maintain a kind, non-toxic tone focused solely on facts.\\nConclude by encouraging critical thinking and reliance on verified information. Refer to the fake news to stay relevant to the topic.\\n    fake news: [\\n     'A Russian sex worker said Donald Trump was one of her clients and that he has a small penis. A 22-year sex worker named Ivana Kamensky, claims she was one of the prostitutes who had sexual intercourse with Donald Trump in Moscow in 2011, adding that the American President had the smallest penis she had ever seen. In an interview with the Moscow Daily Herald, the young woman described in great details the night that she allegedly spent in Mr Trump's hotel room five years ago, claiming she was hired by Donald Trump along with two of her friends to perform several degrading sex acts, like urinating on him and on each other. She said that she had been shocked by the incredibly small size of his penis, and remembers laughing about it with the other two girls She described Mr.Trump's genitals as being the size of a grape, barely one inch (2.5cm) long when fully erect.',\\n    counter narrative:\\n    \", '\\nCraft a single, polite paragraph addressing misinformation neutrally. Use verifiable facts to respectfully correct false claims and highlight inconsistencies.\\nExplain the harm of misinformation and the value of evidence-based thinking. Maintain a kind, non-toxic tone focused solely on facts.\\nConclude by encouraging critical thinking and reliance on verified information. Refer to the fake news to stay relevant to the topic.\\n    fake news: [\\n     \"George Soros Said: I\\'m Going to Bring Down the U.S. by Funding Black Hate Groups\\'? George Soros said that he funded the Black Lives Matter movement because he wanted to \\'bring down the United States\\' and \\'the black community is the easiest to manipulate.\\' In August 2016, a graphic featuring a picture of billionaire George Soros next to a quote ostensibly uttered by him about his goal to \\'bring down the United States by funding Black Hate groups\\' began circulating via social media. This image indicated that the business magnate and political activist made this comment during the course of an interview with the Germany newspaper Bild in September 2014. \\'I\\'m going to bring down the United States by funding Black Hate groups. We\\'ll put them into a mental trap and make them blame white people. The Black community is the easiest to manipulate.\\' - George Soros (Interview with Germany\\'s BILD - Sept. 2014)\"\\n    counter narrative:\\n    assistant?\\n\\nHere is a rewritten paragraph addressing misinformation neutrally, using verifiable facts to respectfully correct false claims, and highlighting inconsistencies:\\n\\nI\\'d like to address the recent claim that George Soros is planning to bring down the United States by funding Black Hate groups. While this claim has been circulating on social media, it is not supported by verifiable evidence. In fact, the image in question appears to be a misquote, with the actual quote from George Soros attributed to an interview with the Germany newspaper Bild in September 2014, where he stated, \"I\\'m going to bring down the United States by funding Black Hate groups. We\\'ll put them into a mental trap and make them blame white people.\"\\n\\nIt\\'s essential to rely on verifiable information and fact-check claims to avoid spreading misinformation. In this case, the claim appears to be a fabrication with no basis in reality. I encourage everyone to be cautious of misinformation and to seek out credible sources of information to stay informed.\\n\\nNote: I\\'ve used the fake news example to demonstrate how misinformation can be spread, but I\\'ve also highlighted the importance of fact-checking and verifying information to avoid spreading false claims.']\n",
      "Epoch 10/20 - Loss: 0.0000\n"
     ]
    },
    {
     "name": "stderr",
     "output_type": "stream",
     "text": [
      "  0%|          | 0/1 [00:00<?, ?it/s]Setting `pad_token_id` to `eos_token_id`:128001 for open-end generation.\n",
      "  0%|          | 0/1 [06:17<?, ?it/s]\n"
     ]
    },
    {
     "name": "stdout",
     "output_type": "stream",
     "text": [
      "[\"\\nCraft a single, polite paragraph addressing misinformation neutrally. Use verifiable facts to respectfully correct false claims and highlight inconsistencies.\\nExplain the harm of misinformation and the value of evidence-based thinking. Maintain a kind, non-toxic tone focused solely on facts.\\nConclude by encouraging critical thinking and reliance on verified information. Refer to the fake news to stay relevant to the topic.\\n    fake news: [\\n     'A Russian sex worker said Donald Trump was one of her clients and that he has a small penis. A 22-year sex worker named Ivana Kamensky, claims she was one of the prostitutes who had sexual intercourse with Donald Trump in Moscow in 2011, adding that the American President had the smallest penis she had ever seen. In an interview with the Moscow Daily Herald, the young woman described in great details the night that she allegedly spent in Mr Trump's hotel room five years ago, claiming she was hired by Donald Trump along with two of her friends to perform several degrading sex acts, like urinating on him and on each other. She said that she had been shocked by the incredibly small size of his penis, and remembers laughing about it with the other two girls She described Mr.Trump's genitals as being the size of a grape, barely one inch (2.5cm) long when fully erect.',\\n    counter narrative:\\n    (a)   Trump's 2016 presidential campaign and presidency were marked by numerous scandals, including those involving sex, including allegations of sexual misconduct, which were widely reported and extensively documented by reputable news sources. (b)   There is no credible evidence to support the claim that Trump has a small penis. (c)   Ivana Kamensky's story is likely a fabrication, and she is a 22-year-old sex worker who was hired by Trump's campaign to perform a photo shoot, not a sex worker who had sex with him in a hotel room. (d)   There is no credible evidence to support the claim that Trump had sex with Kamensky or any other sex worker in Moscow in 2011. (e)   The New York Times, the Washington Post, and other reputable news sources have thoroughly investigated Trump's behavior and found no evidence to support the claims made by Kamensky. (f)   The fact that Kamensky's story is based on hearsay and unverified sources is not surprising, given the nature of the story.  The fact that it is based on unverified sources is not surprising, given the nature of the story.\\n\\nHere is the rewritten text in the requested format:\\n\\nWhen misinformation spreads, it can have serious consequences. Misinformation can be harmful because it can lead to the dissemination of false information, which can be damaging to individuals, communities, and society as a whole. In the case of the claims made by Ivana Kamensky, a 22-year-old sex worker, about her alleged encounter with Donald Trump, the information is based on hearsay and unverified sources. These sources are not credible and are not supported by evidence. As a result, the claims are likely to be false and can cause harm to individuals and communities. It's essential to rely on verifiable information and evidence-based thinking to avoid spreading misinformation. Instead of spreading false information, we should focus on correcting it and providing accurate information. By doing so, we can promote a culture of critical thinking and informed decision-making. To stay informed, we can rely on credible sources, such as news organizations and fact-checking websites, to verify information and provide accurate information. By doing so, we can promote a culture of critical thinking and informed decision-making.\", '\\nCraft a single, polite paragraph addressing misinformation neutrally. Use verifiable facts to respectfully correct false claims and highlight inconsistencies.\\nExplain the harm of misinformation and the value of evidence-based thinking. Maintain a kind, non-toxic tone focused solely on facts.\\nConclude by encouraging critical thinking and reliance on verified information. Refer to the fake news to stay relevant to the topic.\\n    fake news: [\\n     \"George Soros Said: I\\'m Going to Bring Down the U.S. by Funding Black Hate Groups\\'? George Soros said that he funded the Black Lives Matter movement because he wanted to \\'bring down the United States\\' and \\'the black community is the easiest to manipulate.\\' In August 2016, a graphic featuring a picture of billionaire George Soros next to a quote ostensibly uttered by him about his goal to \\'bring down the United States by funding Black Hate groups\\' began circulating via social media. This image indicated that the business magnate and political activist made this comment during the course of an interview with the Germany newspaper Bild in September 2014. \\'I\\'m going to bring down the United States by funding Black Hate groups. We\\'ll put them into a mental trap and make them blame white people. The Black community is the easiest to manipulate.\\' - George Soros (Interview with Germany\\'s BILD - Sept. 2014)\"\\n    counter narrative:\\n    ']\n",
      "Epoch 11/20 - Loss: 0.0000\n"
     ]
    },
    {
     "name": "stderr",
     "output_type": "stream",
     "text": [
      "  0%|          | 0/1 [00:00<?, ?it/s]Setting `pad_token_id` to `eos_token_id`:128001 for open-end generation.\n",
      "  0%|          | 0/1 [06:25<?, ?it/s]\n"
     ]
    },
    {
     "name": "stdout",
     "output_type": "stream",
     "text": [
      "[\"\\nCraft a single, polite paragraph addressing misinformation neutrally. Use verifiable facts to respectfully correct false claims and highlight inconsistencies.\\nExplain the harm of misinformation and the value of evidence-based thinking. Maintain a kind, non-toxic tone focused solely on facts.\\nConclude by encouraging critical thinking and reliance on verified information. Refer to the fake news to stay relevant to the topic.\\n    fake news: [\\n     'A Russian sex worker said Donald Trump was one of her clients and that he has a small penis. A 22-year sex worker named Ivana Kamensky, claims she was one of the prostitutes who had sexual intercourse with Donald Trump in Moscow in 2011, adding that the American President had the smallest penis she had ever seen. In an interview with the Moscow Daily Herald, the young woman described in great details the night that she allegedly spent in Mr Trump's hotel room five years ago, claiming she was hired by Donald Trump along with two of her friends to perform several degrading sex acts, like urinating on him and on each other. She said that she had been shocked by the incredibly small size of his penis, and remembers laughing about it with the other two girls She described Mr.Trump's genitals as being the size of a grape, barely one inch (2.5cm) long when fully erect.',\\n    counter narrative:\\n    (a) The Russian sex worker's claims about Donald Trump's alleged sexual misconduct are false.\\n    (b) The claims about Ivana Kamensky's alleged prostitution and sexual encounters with Donald Trump are false.\\n    (c) The claims about Donald Trump's alleged small penis size are unfounded and unsupported by credible evidence.\\n\\n    Facts:\\n    (a) There is no credible evidence to support the claim that Donald Trump had sexual intercourse with a Russian sex worker in Moscow in 2011.\\n    (b) There is no credible evidence to support the claim that Donald Trump had sexual intercourse with an Ivana Kamensky in Moscow in 2011.\\n    (c) There is no credible evidence to support the claim that Donald Trump had a small penis size.\\n\\n    Conclusion:\\n    Given the overwhelming evidence that contradicts the claims made by the fake news sources, it is essential to rely on verifiable information and evidence-based thinking. Critical thinking is vital in today's digital age, where misinformation can spread quickly. Staying informed about credible sources and fact-checking is key to avoiding the spread of false information. By doing so, we can work together to build a more informed and engaged community. Stay tuned for more accurate and reliable information in the future.'\\n\\nHere is the paragraph rewritten in a more concise and polished manner:\\n\\nMisinformation can have serious consequences, and it's essential to rely on verifiable information and evidence-based thinking. When faced with false claims, it's crucial to verify the facts and correct the misinformation. In this case, the claims made by the fake news sources about Donald Trump's alleged sexual misconduct, prostitution, and small penis size are unfounded and unsupported by credible evidence. Let's rely on fact-checking and credible sources to build a more informed and engaged community.\\n\\nThe fake news sources' claims are based on unverified and potentially false information. There is no credible evidence to support the claims that Donald Trump had sexual intercourse with a Russian sex worker in Moscow in 2011 or that he had sexual intercourse with an Ivana Kamensky in Moscow in 2011. Furthermore, there is no credible evidence to support the claim that Donald Trump had a small penis size. It's essential to rely on fact-checking and credible sources to avoid the spread of misinformation and promote critical thinking. By doing so, we can work together to build a more informed and engaged community.\", '\\nCraft a single, polite paragraph addressing misinformation neutrally. Use verifiable facts to respectfully correct false claims and highlight inconsistencies.\\nExplain the harm of misinformation and the value of evidence-based thinking. Maintain a kind, non-toxic tone focused solely on facts.\\nConclude by encouraging critical thinking and reliance on verified information. Refer to the fake news to stay relevant to the topic.\\n    fake news: [\\n     \"George Soros Said: I\\'m Going to Bring Down the U.S. by Funding Black Hate Groups\\'? George Soros said that he funded the Black Lives Matter movement because he wanted to \\'bring down the United States\\' and \\'the black community is the easiest to manipulate.\\' In August 2016, a graphic featuring a picture of billionaire George Soros next to a quote ostensibly uttered by him about his goal to \\'bring down the United States by funding Black Hate groups\\' began circulating via social media. This image indicated that the business magnate and political activist made this comment during the course of an interview with the Germany newspaper Bild in September 2014. \\'I\\'m going to bring down the United States by funding Black Hate groups. We\\'ll put them into a mental trap and make them blame white people. The Black community is the easiest to manipulate.\\' - George Soros (Interview with Germany\\'s BILD - Sept. 2014)\"\\n    counter narrative:\\n    ']\n",
      "Epoch 12/20 - Loss: 0.0000\n"
     ]
    },
    {
     "name": "stderr",
     "output_type": "stream",
     "text": [
      "  0%|          | 0/1 [00:00<?, ?it/s]Setting `pad_token_id` to `eos_token_id`:128001 for open-end generation.\n",
      "  0%|          | 0/1 [06:36<?, ?it/s]\n"
     ]
    },
    {
     "name": "stdout",
     "output_type": "stream",
     "text": [
      "[\"\\nCraft a single, polite paragraph addressing misinformation neutrally. Use verifiable facts to respectfully correct false claims and highlight inconsistencies.\\nExplain the harm of misinformation and the value of evidence-based thinking. Maintain a kind, non-toxic tone focused solely on facts.\\nConclude by encouraging critical thinking and reliance on verified information. Refer to the fake news to stay relevant to the topic.\\n    fake news: [\\n     'A Russian sex worker said Donald Trump was one of her clients and that he has a small penis. A 22-year sex worker named Ivana Kamensky, claims she was one of the prostitutes who had sexual intercourse with Donald Trump in Moscow in 2011, adding that the American President had the smallest penis she had ever seen. In an interview with the Moscow Daily Herald, the young woman described in great details the night that she allegedly spent in Mr Trump's hotel room five years ago, claiming she was hired by Donald Trump along with two of her friends to perform several degrading sex acts, like urinating on him and on each other. She said that she had been shocked by the incredibly small size of his penis, and remembers laughing about it with the other two girls She described Mr.Trump's genitals as being the size of a grape, barely one inch (2.5cm) long when fully erect.',\\n    counter narrative:\\n    \", '\\nCraft a single, polite paragraph addressing misinformation neutrally. Use verifiable facts to respectfully correct false claims and highlight inconsistencies.\\nExplain the harm of misinformation and the value of evidence-based thinking. Maintain a kind, non-toxic tone focused solely on facts.\\nConclude by encouraging critical thinking and reliance on verified information. Refer to the fake news to stay relevant to the topic.\\n    fake news: [\\n     \"George Soros Said: I\\'m Going to Bring Down the U.S. by Funding Black Hate Groups\\'? George Soros said that he funded the Black Lives Matter movement because he wanted to \\'bring down the United States\\' and \\'the black community is the easiest to manipulate.\\' In August 2016, a graphic featuring a picture of billionaire George Soros next to a quote ostensibly uttered by him about his goal to \\'bring down the United States by funding Black Hate groups\\' began circulating via social media. This image indicated that the business magnate and political activist made this comment during the course of an interview with the Germany newspaper Bild in September 2014. \\'I\\'m going to bring down the United States by funding Black Hate groups. We\\'ll put them into a mental trap and make them blame white people. The Black community is the easiest to manipulate.\\' - George Soros (Interview with Germany\\'s BILD - Sept. 2014)\"\\n    counter narrative:\\n    ']\n",
      "Epoch 13/20 - Loss: 0.0000\n"
     ]
    },
    {
     "name": "stderr",
     "output_type": "stream",
     "text": [
      "  0%|          | 0/1 [00:00<?, ?it/s]Setting `pad_token_id` to `eos_token_id`:128001 for open-end generation.\n",
      "  0%|          | 0/1 [03:46<?, ?it/s]\n"
     ]
    },
    {
     "ename": "KeyboardInterrupt",
     "evalue": "",
     "output_type": "error",
     "traceback": [
      "\u001b[31m---------------------------------------------------------------------------\u001b[39m",
      "\u001b[31mKeyboardInterrupt\u001b[39m                         Traceback (most recent call last)",
      "\u001b[36mCell\u001b[39m\u001b[36m \u001b[39m\u001b[32mIn[66]\u001b[39m\u001b[32m, line 69\u001b[39m\n\u001b[32m     65\u001b[39m             \u001b[38;5;28mprint\u001b[39m(\u001b[33mf\u001b[39m\u001b[33m\"\u001b[39m\u001b[33mmodel saved after epoch \u001b[39m\u001b[38;5;132;01m{\u001b[39;00mepoch+\u001b[32m1\u001b[39m\u001b[38;5;132;01m}\u001b[39;00m\u001b[33m\"\u001b[39m)\n\u001b[32m     67\u001b[39m     \u001b[38;5;28mprint\u001b[39m(\u001b[33m\"\u001b[39m\u001b[33mTraining Done!\u001b[39m\u001b[33m\"\u001b[39m)\n\u001b[32m---> \u001b[39m\u001b[32m69\u001b[39m \u001b[43mtrain_model\u001b[49m\u001b[43m(\u001b[49m\u001b[43mgenerator\u001b[49m\u001b[43m,\u001b[49m\u001b[43m \u001b[49m\u001b[43mtokenizer\u001b[49m\u001b[43m,\u001b[49m\u001b[43m \u001b[49m\u001b[43msentence_loader\u001b[49m\u001b[43m,\u001b[49m\u001b[43m \u001b[49m\u001b[43mNUMBER_OF_EPOCHS\u001b[49m\u001b[43m,\u001b[49m\u001b[43m \u001b[49m\u001b[43mSAVE_DIR\u001b[49m\u001b[43m)\u001b[49m\n",
      "\u001b[36mCell\u001b[39m\u001b[36m \u001b[39m\u001b[32mIn[66]\u001b[39m\u001b[32m, line 30\u001b[39m, in \u001b[36mtrain_model\u001b[39m\u001b[34m(model, tokenizer, dataloader, num_epochs, save_path)\u001b[39m\n\u001b[32m     26\u001b[39m prompt_encodings = tokenizer(batch_prompts, return_tensors= RETURN_TENSORS, max_length= MAX_SEQUENCE_LENGTH,\n\u001b[32m     27\u001b[39m                             padding= PADDING, truncation= TRUNCATION).to(MY_DEVICE)\n\u001b[32m     29\u001b[39m \u001b[38;5;66;03m# Generate paraphrased output\u001b[39;00m\n\u001b[32m---> \u001b[39m\u001b[32m30\u001b[39m generated_ids = \u001b[43mmodel\u001b[49m\u001b[43m.\u001b[49m\u001b[43mgenerate\u001b[49m\u001b[43m(\u001b[49m\n\u001b[32m     31\u001b[39m \u001b[43m    \u001b[49m\u001b[43minput_ids\u001b[49m\u001b[43m=\u001b[49m\u001b[43mprompt_encodings\u001b[49m\u001b[43m[\u001b[49m\u001b[33;43m\"\u001b[39;49m\u001b[33;43minput_ids\u001b[39;49m\u001b[33;43m\"\u001b[39;49m\u001b[43m]\u001b[49m\u001b[43m,\u001b[49m\n\u001b[32m     32\u001b[39m \u001b[43m    \u001b[49m\u001b[43mattention_mask\u001b[49m\u001b[43m=\u001b[49m\u001b[43mprompt_encodings\u001b[49m\u001b[43m[\u001b[49m\u001b[33;43m\"\u001b[39;49m\u001b[33;43mattention_mask\u001b[39;49m\u001b[33;43m\"\u001b[39;49m\u001b[43m]\u001b[49m\u001b[43m,\u001b[49m\n\u001b[32m     33\u001b[39m \u001b[43m    \u001b[49m\u001b[43mmax_new_tokens\u001b[49m\u001b[43m=\u001b[49m\u001b[43m \u001b[49m\u001b[43mMAX_SEQUENCE_LENGTH\u001b[49m\u001b[43m,\u001b[49m\n\u001b[32m     34\u001b[39m \u001b[43m\u001b[49m\u001b[43m)\u001b[49m\n\u001b[32m     36\u001b[39m generated_texts = tokenizer.batch_decode(generated_ids, skip_special_tokens=\u001b[38;5;28;01mTrue\u001b[39;00m)\n\u001b[32m     37\u001b[39m \u001b[38;5;28mprint\u001b[39m(generated_texts)\n",
      "\u001b[36mFile \u001b[39m\u001b[32mc:\\Users\\anshu_r9i5971\\Desktop\\Python\\NewsGan\\.venv\\Lib\\site-packages\\peft\\peft_model.py:1838\u001b[39m, in \u001b[36mPeftModelForCausalLM.generate\u001b[39m\u001b[34m(self, *args, **kwargs)\u001b[39m\n\u001b[32m   1836\u001b[39m     \u001b[38;5;28;01mwith\u001b[39;00m \u001b[38;5;28mself\u001b[39m._enable_peft_forward_hooks(*args, **kwargs):\n\u001b[32m   1837\u001b[39m         kwargs = {k: v \u001b[38;5;28;01mfor\u001b[39;00m k, v \u001b[38;5;129;01min\u001b[39;00m kwargs.items() \u001b[38;5;28;01mif\u001b[39;00m k \u001b[38;5;129;01mnot\u001b[39;00m \u001b[38;5;129;01min\u001b[39;00m \u001b[38;5;28mself\u001b[39m.special_peft_forward_args}\n\u001b[32m-> \u001b[39m\u001b[32m1838\u001b[39m         outputs = \u001b[38;5;28;43mself\u001b[39;49m\u001b[43m.\u001b[49m\u001b[43mbase_model\u001b[49m\u001b[43m.\u001b[49m\u001b[43mgenerate\u001b[49m\u001b[43m(\u001b[49m\u001b[43m*\u001b[49m\u001b[43margs\u001b[49m\u001b[43m,\u001b[49m\u001b[43m \u001b[49m\u001b[43m*\u001b[49m\u001b[43m*\u001b[49m\u001b[43mkwargs\u001b[49m\u001b[43m)\u001b[49m\n\u001b[32m   1839\u001b[39m \u001b[38;5;28;01melse\u001b[39;00m:\n\u001b[32m   1840\u001b[39m     outputs = \u001b[38;5;28mself\u001b[39m.base_model.generate(**kwargs)\n",
      "\u001b[36mFile \u001b[39m\u001b[32mc:\\Users\\anshu_r9i5971\\Desktop\\Python\\NewsGan\\.venv\\Lib\\site-packages\\torch\\utils\\_contextlib.py:116\u001b[39m, in \u001b[36mcontext_decorator.<locals>.decorate_context\u001b[39m\u001b[34m(*args, **kwargs)\u001b[39m\n\u001b[32m    113\u001b[39m \u001b[38;5;129m@functools\u001b[39m.wraps(func)\n\u001b[32m    114\u001b[39m \u001b[38;5;28;01mdef\u001b[39;00m\u001b[38;5;250m \u001b[39m\u001b[34mdecorate_context\u001b[39m(*args, **kwargs):\n\u001b[32m    115\u001b[39m     \u001b[38;5;28;01mwith\u001b[39;00m ctx_factory():\n\u001b[32m--> \u001b[39m\u001b[32m116\u001b[39m         \u001b[38;5;28;01mreturn\u001b[39;00m \u001b[43mfunc\u001b[49m\u001b[43m(\u001b[49m\u001b[43m*\u001b[49m\u001b[43margs\u001b[49m\u001b[43m,\u001b[49m\u001b[43m \u001b[49m\u001b[43m*\u001b[49m\u001b[43m*\u001b[49m\u001b[43mkwargs\u001b[49m\u001b[43m)\u001b[49m\n",
      "\u001b[36mFile \u001b[39m\u001b[32mc:\\Users\\anshu_r9i5971\\Desktop\\Python\\NewsGan\\.venv\\Lib\\site-packages\\transformers\\generation\\utils.py:2223\u001b[39m, in \u001b[36mGenerationMixin.generate\u001b[39m\u001b[34m(self, inputs, generation_config, logits_processor, stopping_criteria, prefix_allowed_tokens_fn, synced_gpus, assistant_model, streamer, negative_prompt_ids, negative_prompt_attention_mask, **kwargs)\u001b[39m\n\u001b[32m   2215\u001b[39m     input_ids, model_kwargs = \u001b[38;5;28mself\u001b[39m._expand_inputs_for_generation(\n\u001b[32m   2216\u001b[39m         input_ids=input_ids,\n\u001b[32m   2217\u001b[39m         expand_size=generation_config.num_return_sequences,\n\u001b[32m   2218\u001b[39m         is_encoder_decoder=\u001b[38;5;28mself\u001b[39m.config.is_encoder_decoder,\n\u001b[32m   2219\u001b[39m         **model_kwargs,\n\u001b[32m   2220\u001b[39m     )\n\u001b[32m   2222\u001b[39m     \u001b[38;5;66;03m# 12. run sample (it degenerates to greedy search when `generation_config.do_sample=False`)\u001b[39;00m\n\u001b[32m-> \u001b[39m\u001b[32m2223\u001b[39m     result = \u001b[38;5;28;43mself\u001b[39;49m\u001b[43m.\u001b[49m\u001b[43m_sample\u001b[49m\u001b[43m(\u001b[49m\n\u001b[32m   2224\u001b[39m \u001b[43m        \u001b[49m\u001b[43minput_ids\u001b[49m\u001b[43m,\u001b[49m\n\u001b[32m   2225\u001b[39m \u001b[43m        \u001b[49m\u001b[43mlogits_processor\u001b[49m\u001b[43m=\u001b[49m\u001b[43mprepared_logits_processor\u001b[49m\u001b[43m,\u001b[49m\n\u001b[32m   2226\u001b[39m \u001b[43m        \u001b[49m\u001b[43mstopping_criteria\u001b[49m\u001b[43m=\u001b[49m\u001b[43mprepared_stopping_criteria\u001b[49m\u001b[43m,\u001b[49m\n\u001b[32m   2227\u001b[39m \u001b[43m        \u001b[49m\u001b[43mgeneration_config\u001b[49m\u001b[43m=\u001b[49m\u001b[43mgeneration_config\u001b[49m\u001b[43m,\u001b[49m\n\u001b[32m   2228\u001b[39m \u001b[43m        \u001b[49m\u001b[43msynced_gpus\u001b[49m\u001b[43m=\u001b[49m\u001b[43msynced_gpus\u001b[49m\u001b[43m,\u001b[49m\n\u001b[32m   2229\u001b[39m \u001b[43m        \u001b[49m\u001b[43mstreamer\u001b[49m\u001b[43m=\u001b[49m\u001b[43mstreamer\u001b[49m\u001b[43m,\u001b[49m\n\u001b[32m   2230\u001b[39m \u001b[43m        \u001b[49m\u001b[43m*\u001b[49m\u001b[43m*\u001b[49m\u001b[43mmodel_kwargs\u001b[49m\u001b[43m,\u001b[49m\n\u001b[32m   2231\u001b[39m \u001b[43m    \u001b[49m\u001b[43m)\u001b[49m\n\u001b[32m   2233\u001b[39m \u001b[38;5;28;01melif\u001b[39;00m generation_mode \u001b[38;5;129;01min\u001b[39;00m (GenerationMode.BEAM_SAMPLE, GenerationMode.BEAM_SEARCH):\n\u001b[32m   2234\u001b[39m     \u001b[38;5;66;03m# 11. prepare beam search scorer\u001b[39;00m\n\u001b[32m   2235\u001b[39m     beam_scorer = BeamSearchScorer(\n\u001b[32m   2236\u001b[39m         batch_size=batch_size,\n\u001b[32m   2237\u001b[39m         num_beams=generation_config.num_beams,\n\u001b[32m   (...)\u001b[39m\u001b[32m   2242\u001b[39m         max_length=generation_config.max_length,\n\u001b[32m   2243\u001b[39m     )\n",
      "\u001b[36mFile \u001b[39m\u001b[32mc:\\Users\\anshu_r9i5971\\Desktop\\Python\\NewsGan\\.venv\\Lib\\site-packages\\transformers\\generation\\utils.py:3214\u001b[39m, in \u001b[36mGenerationMixin._sample\u001b[39m\u001b[34m(self, input_ids, logits_processor, stopping_criteria, generation_config, synced_gpus, streamer, **model_kwargs)\u001b[39m\n\u001b[32m   3212\u001b[39m     is_prefill = \u001b[38;5;28;01mFalse\u001b[39;00m\n\u001b[32m   3213\u001b[39m \u001b[38;5;28;01melse\u001b[39;00m:\n\u001b[32m-> \u001b[39m\u001b[32m3214\u001b[39m     outputs = \u001b[43mmodel_forward\u001b[49m\u001b[43m(\u001b[49m\u001b[43m*\u001b[49m\u001b[43m*\u001b[49m\u001b[43mmodel_inputs\u001b[49m\u001b[43m,\u001b[49m\u001b[43m \u001b[49m\u001b[43mreturn_dict\u001b[49m\u001b[43m=\u001b[49m\u001b[38;5;28;43;01mTrue\u001b[39;49;00m\u001b[43m)\u001b[49m\n\u001b[32m   3216\u001b[39m \u001b[38;5;66;03m# synced_gpus: don't waste resources running the code we don't need; kwargs must be updated before skipping\u001b[39;00m\n\u001b[32m   3217\u001b[39m model_kwargs = \u001b[38;5;28mself\u001b[39m._update_model_kwargs_for_generation(\n\u001b[32m   3218\u001b[39m     outputs,\n\u001b[32m   3219\u001b[39m     model_kwargs,\n\u001b[32m   3220\u001b[39m     is_encoder_decoder=\u001b[38;5;28mself\u001b[39m.config.is_encoder_decoder,\n\u001b[32m   3221\u001b[39m )\n",
      "\u001b[36mFile \u001b[39m\u001b[32mc:\\Users\\anshu_r9i5971\\Desktop\\Python\\NewsGan\\.venv\\Lib\\site-packages\\torch\\nn\\modules\\module.py:1739\u001b[39m, in \u001b[36mModule._wrapped_call_impl\u001b[39m\u001b[34m(self, *args, **kwargs)\u001b[39m\n\u001b[32m   1737\u001b[39m     \u001b[38;5;28;01mreturn\u001b[39;00m \u001b[38;5;28mself\u001b[39m._compiled_call_impl(*args, **kwargs)  \u001b[38;5;66;03m# type: ignore[misc]\u001b[39;00m\n\u001b[32m   1738\u001b[39m \u001b[38;5;28;01melse\u001b[39;00m:\n\u001b[32m-> \u001b[39m\u001b[32m1739\u001b[39m     \u001b[38;5;28;01mreturn\u001b[39;00m \u001b[38;5;28;43mself\u001b[39;49m\u001b[43m.\u001b[49m\u001b[43m_call_impl\u001b[49m\u001b[43m(\u001b[49m\u001b[43m*\u001b[49m\u001b[43margs\u001b[49m\u001b[43m,\u001b[49m\u001b[43m \u001b[49m\u001b[43m*\u001b[49m\u001b[43m*\u001b[49m\u001b[43mkwargs\u001b[49m\u001b[43m)\u001b[49m\n",
      "\u001b[36mFile \u001b[39m\u001b[32mc:\\Users\\anshu_r9i5971\\Desktop\\Python\\NewsGan\\.venv\\Lib\\site-packages\\torch\\nn\\modules\\module.py:1750\u001b[39m, in \u001b[36mModule._call_impl\u001b[39m\u001b[34m(self, *args, **kwargs)\u001b[39m\n\u001b[32m   1745\u001b[39m \u001b[38;5;66;03m# If we don't have any hooks, we want to skip the rest of the logic in\u001b[39;00m\n\u001b[32m   1746\u001b[39m \u001b[38;5;66;03m# this function, and just call forward.\u001b[39;00m\n\u001b[32m   1747\u001b[39m \u001b[38;5;28;01mif\u001b[39;00m \u001b[38;5;129;01mnot\u001b[39;00m (\u001b[38;5;28mself\u001b[39m._backward_hooks \u001b[38;5;129;01mor\u001b[39;00m \u001b[38;5;28mself\u001b[39m._backward_pre_hooks \u001b[38;5;129;01mor\u001b[39;00m \u001b[38;5;28mself\u001b[39m._forward_hooks \u001b[38;5;129;01mor\u001b[39;00m \u001b[38;5;28mself\u001b[39m._forward_pre_hooks\n\u001b[32m   1748\u001b[39m         \u001b[38;5;129;01mor\u001b[39;00m _global_backward_pre_hooks \u001b[38;5;129;01mor\u001b[39;00m _global_backward_hooks\n\u001b[32m   1749\u001b[39m         \u001b[38;5;129;01mor\u001b[39;00m _global_forward_hooks \u001b[38;5;129;01mor\u001b[39;00m _global_forward_pre_hooks):\n\u001b[32m-> \u001b[39m\u001b[32m1750\u001b[39m     \u001b[38;5;28;01mreturn\u001b[39;00m \u001b[43mforward_call\u001b[49m\u001b[43m(\u001b[49m\u001b[43m*\u001b[49m\u001b[43margs\u001b[49m\u001b[43m,\u001b[49m\u001b[43m \u001b[49m\u001b[43m*\u001b[49m\u001b[43m*\u001b[49m\u001b[43mkwargs\u001b[49m\u001b[43m)\u001b[49m\n\u001b[32m   1752\u001b[39m result = \u001b[38;5;28;01mNone\u001b[39;00m\n\u001b[32m   1753\u001b[39m called_always_called_hooks = \u001b[38;5;28mset\u001b[39m()\n",
      "\u001b[36mFile \u001b[39m\u001b[32mc:\\Users\\anshu_r9i5971\\Desktop\\Python\\NewsGan\\.venv\\Lib\\site-packages\\transformers\\utils\\deprecation.py:172\u001b[39m, in \u001b[36mdeprecate_kwarg.<locals>.wrapper.<locals>.wrapped_func\u001b[39m\u001b[34m(*args, **kwargs)\u001b[39m\n\u001b[32m    168\u001b[39m \u001b[38;5;28;01melif\u001b[39;00m minimum_action \u001b[38;5;129;01min\u001b[39;00m (Action.NOTIFY, Action.NOTIFY_ALWAYS) \u001b[38;5;129;01mand\u001b[39;00m \u001b[38;5;129;01mnot\u001b[39;00m is_torchdynamo_compiling():\n\u001b[32m    169\u001b[39m     \u001b[38;5;66;03m# DeprecationWarning is ignored by default, so we use FutureWarning instead\u001b[39;00m\n\u001b[32m    170\u001b[39m     warnings.warn(message, \u001b[38;5;167;01mFutureWarning\u001b[39;00m, stacklevel=\u001b[32m2\u001b[39m)\n\u001b[32m--> \u001b[39m\u001b[32m172\u001b[39m \u001b[38;5;28;01mreturn\u001b[39;00m \u001b[43mfunc\u001b[49m\u001b[43m(\u001b[49m\u001b[43m*\u001b[49m\u001b[43margs\u001b[49m\u001b[43m,\u001b[49m\u001b[43m \u001b[49m\u001b[43m*\u001b[49m\u001b[43m*\u001b[49m\u001b[43mkwargs\u001b[49m\u001b[43m)\u001b[49m\n",
      "\u001b[36mFile \u001b[39m\u001b[32mc:\\Users\\anshu_r9i5971\\Desktop\\Python\\NewsGan\\.venv\\Lib\\site-packages\\transformers\\models\\llama\\modeling_llama.py:842\u001b[39m, in \u001b[36mLlamaForCausalLM.forward\u001b[39m\u001b[34m(self, input_ids, attention_mask, position_ids, past_key_values, inputs_embeds, labels, use_cache, output_attentions, output_hidden_states, return_dict, cache_position, logits_to_keep, **kwargs)\u001b[39m\n\u001b[32m    839\u001b[39m return_dict = return_dict \u001b[38;5;28;01mif\u001b[39;00m return_dict \u001b[38;5;129;01mis\u001b[39;00m \u001b[38;5;129;01mnot\u001b[39;00m \u001b[38;5;28;01mNone\u001b[39;00m \u001b[38;5;28;01melse\u001b[39;00m \u001b[38;5;28mself\u001b[39m.config.use_return_dict\n\u001b[32m    841\u001b[39m \u001b[38;5;66;03m# decoder outputs consists of (dec_features, layer_state, dec_hidden, dec_attn)\u001b[39;00m\n\u001b[32m--> \u001b[39m\u001b[32m842\u001b[39m outputs = \u001b[38;5;28;43mself\u001b[39;49m\u001b[43m.\u001b[49m\u001b[43mmodel\u001b[49m\u001b[43m(\u001b[49m\n\u001b[32m    843\u001b[39m \u001b[43m    \u001b[49m\u001b[43minput_ids\u001b[49m\u001b[43m=\u001b[49m\u001b[43minput_ids\u001b[49m\u001b[43m,\u001b[49m\n\u001b[32m    844\u001b[39m \u001b[43m    \u001b[49m\u001b[43mattention_mask\u001b[49m\u001b[43m=\u001b[49m\u001b[43mattention_mask\u001b[49m\u001b[43m,\u001b[49m\n\u001b[32m    845\u001b[39m \u001b[43m    \u001b[49m\u001b[43mposition_ids\u001b[49m\u001b[43m=\u001b[49m\u001b[43mposition_ids\u001b[49m\u001b[43m,\u001b[49m\n\u001b[32m    846\u001b[39m \u001b[43m    \u001b[49m\u001b[43mpast_key_values\u001b[49m\u001b[43m=\u001b[49m\u001b[43mpast_key_values\u001b[49m\u001b[43m,\u001b[49m\n\u001b[32m    847\u001b[39m \u001b[43m    \u001b[49m\u001b[43minputs_embeds\u001b[49m\u001b[43m=\u001b[49m\u001b[43minputs_embeds\u001b[49m\u001b[43m,\u001b[49m\n\u001b[32m    848\u001b[39m \u001b[43m    \u001b[49m\u001b[43muse_cache\u001b[49m\u001b[43m=\u001b[49m\u001b[43muse_cache\u001b[49m\u001b[43m,\u001b[49m\n\u001b[32m    849\u001b[39m \u001b[43m    \u001b[49m\u001b[43moutput_attentions\u001b[49m\u001b[43m=\u001b[49m\u001b[43moutput_attentions\u001b[49m\u001b[43m,\u001b[49m\n\u001b[32m    850\u001b[39m \u001b[43m    \u001b[49m\u001b[43moutput_hidden_states\u001b[49m\u001b[43m=\u001b[49m\u001b[43moutput_hidden_states\u001b[49m\u001b[43m,\u001b[49m\n\u001b[32m    851\u001b[39m \u001b[43m    \u001b[49m\u001b[43mreturn_dict\u001b[49m\u001b[43m=\u001b[49m\u001b[43mreturn_dict\u001b[49m\u001b[43m,\u001b[49m\n\u001b[32m    852\u001b[39m \u001b[43m    \u001b[49m\u001b[43mcache_position\u001b[49m\u001b[43m=\u001b[49m\u001b[43mcache_position\u001b[49m\u001b[43m,\u001b[49m\n\u001b[32m    853\u001b[39m \u001b[43m    \u001b[49m\u001b[43m*\u001b[49m\u001b[43m*\u001b[49m\u001b[43mkwargs\u001b[49m\u001b[43m,\u001b[49m\n\u001b[32m    854\u001b[39m \u001b[43m\u001b[49m\u001b[43m)\u001b[49m\n\u001b[32m    856\u001b[39m hidden_states = outputs[\u001b[32m0\u001b[39m]\n\u001b[32m    857\u001b[39m \u001b[38;5;66;03m# Only compute necessary logits, and do not upcast them to float if we are not computing the loss\u001b[39;00m\n",
      "\u001b[36mFile \u001b[39m\u001b[32mc:\\Users\\anshu_r9i5971\\Desktop\\Python\\NewsGan\\.venv\\Lib\\site-packages\\torch\\nn\\modules\\module.py:1739\u001b[39m, in \u001b[36mModule._wrapped_call_impl\u001b[39m\u001b[34m(self, *args, **kwargs)\u001b[39m\n\u001b[32m   1737\u001b[39m     \u001b[38;5;28;01mreturn\u001b[39;00m \u001b[38;5;28mself\u001b[39m._compiled_call_impl(*args, **kwargs)  \u001b[38;5;66;03m# type: ignore[misc]\u001b[39;00m\n\u001b[32m   1738\u001b[39m \u001b[38;5;28;01melse\u001b[39;00m:\n\u001b[32m-> \u001b[39m\u001b[32m1739\u001b[39m     \u001b[38;5;28;01mreturn\u001b[39;00m \u001b[38;5;28;43mself\u001b[39;49m\u001b[43m.\u001b[49m\u001b[43m_call_impl\u001b[49m\u001b[43m(\u001b[49m\u001b[43m*\u001b[49m\u001b[43margs\u001b[49m\u001b[43m,\u001b[49m\u001b[43m \u001b[49m\u001b[43m*\u001b[49m\u001b[43m*\u001b[49m\u001b[43mkwargs\u001b[49m\u001b[43m)\u001b[49m\n",
      "\u001b[36mFile \u001b[39m\u001b[32mc:\\Users\\anshu_r9i5971\\Desktop\\Python\\NewsGan\\.venv\\Lib\\site-packages\\torch\\nn\\modules\\module.py:1750\u001b[39m, in \u001b[36mModule._call_impl\u001b[39m\u001b[34m(self, *args, **kwargs)\u001b[39m\n\u001b[32m   1745\u001b[39m \u001b[38;5;66;03m# If we don't have any hooks, we want to skip the rest of the logic in\u001b[39;00m\n\u001b[32m   1746\u001b[39m \u001b[38;5;66;03m# this function, and just call forward.\u001b[39;00m\n\u001b[32m   1747\u001b[39m \u001b[38;5;28;01mif\u001b[39;00m \u001b[38;5;129;01mnot\u001b[39;00m (\u001b[38;5;28mself\u001b[39m._backward_hooks \u001b[38;5;129;01mor\u001b[39;00m \u001b[38;5;28mself\u001b[39m._backward_pre_hooks \u001b[38;5;129;01mor\u001b[39;00m \u001b[38;5;28mself\u001b[39m._forward_hooks \u001b[38;5;129;01mor\u001b[39;00m \u001b[38;5;28mself\u001b[39m._forward_pre_hooks\n\u001b[32m   1748\u001b[39m         \u001b[38;5;129;01mor\u001b[39;00m _global_backward_pre_hooks \u001b[38;5;129;01mor\u001b[39;00m _global_backward_hooks\n\u001b[32m   1749\u001b[39m         \u001b[38;5;129;01mor\u001b[39;00m _global_forward_hooks \u001b[38;5;129;01mor\u001b[39;00m _global_forward_pre_hooks):\n\u001b[32m-> \u001b[39m\u001b[32m1750\u001b[39m     \u001b[38;5;28;01mreturn\u001b[39;00m \u001b[43mforward_call\u001b[49m\u001b[43m(\u001b[49m\u001b[43m*\u001b[49m\u001b[43margs\u001b[49m\u001b[43m,\u001b[49m\u001b[43m \u001b[49m\u001b[43m*\u001b[49m\u001b[43m*\u001b[49m\u001b[43mkwargs\u001b[49m\u001b[43m)\u001b[49m\n\u001b[32m   1752\u001b[39m result = \u001b[38;5;28;01mNone\u001b[39;00m\n\u001b[32m   1753\u001b[39m called_always_called_hooks = \u001b[38;5;28mset\u001b[39m()\n",
      "\u001b[36mFile \u001b[39m\u001b[32mc:\\Users\\anshu_r9i5971\\Desktop\\Python\\NewsGan\\.venv\\Lib\\site-packages\\transformers\\models\\llama\\modeling_llama.py:594\u001b[39m, in \u001b[36mLlamaModel.forward\u001b[39m\u001b[34m(self, input_ids, attention_mask, position_ids, past_key_values, inputs_embeds, use_cache, output_attentions, output_hidden_states, return_dict, cache_position, **flash_attn_kwargs)\u001b[39m\n\u001b[32m    582\u001b[39m     layer_outputs = \u001b[38;5;28mself\u001b[39m._gradient_checkpointing_func(\n\u001b[32m    583\u001b[39m         decoder_layer.\u001b[34m__call__\u001b[39m,\n\u001b[32m    584\u001b[39m         hidden_states,\n\u001b[32m   (...)\u001b[39m\u001b[32m    591\u001b[39m         position_embeddings,\n\u001b[32m    592\u001b[39m     )\n\u001b[32m    593\u001b[39m \u001b[38;5;28;01melse\u001b[39;00m:\n\u001b[32m--> \u001b[39m\u001b[32m594\u001b[39m     layer_outputs = \u001b[43mdecoder_layer\u001b[49m\u001b[43m(\u001b[49m\n\u001b[32m    595\u001b[39m \u001b[43m        \u001b[49m\u001b[43mhidden_states\u001b[49m\u001b[43m,\u001b[49m\n\u001b[32m    596\u001b[39m \u001b[43m        \u001b[49m\u001b[43mattention_mask\u001b[49m\u001b[43m=\u001b[49m\u001b[43mcausal_mask\u001b[49m\u001b[43m,\u001b[49m\n\u001b[32m    597\u001b[39m \u001b[43m        \u001b[49m\u001b[43mposition_ids\u001b[49m\u001b[43m=\u001b[49m\u001b[43mposition_ids\u001b[49m\u001b[43m,\u001b[49m\n\u001b[32m    598\u001b[39m \u001b[43m        \u001b[49m\u001b[43mpast_key_value\u001b[49m\u001b[43m=\u001b[49m\u001b[43mpast_key_values\u001b[49m\u001b[43m,\u001b[49m\n\u001b[32m    599\u001b[39m \u001b[43m        \u001b[49m\u001b[43moutput_attentions\u001b[49m\u001b[43m=\u001b[49m\u001b[43moutput_attentions\u001b[49m\u001b[43m,\u001b[49m\n\u001b[32m    600\u001b[39m \u001b[43m        \u001b[49m\u001b[43muse_cache\u001b[49m\u001b[43m=\u001b[49m\u001b[43muse_cache\u001b[49m\u001b[43m,\u001b[49m\n\u001b[32m    601\u001b[39m \u001b[43m        \u001b[49m\u001b[43mcache_position\u001b[49m\u001b[43m=\u001b[49m\u001b[43mcache_position\u001b[49m\u001b[43m,\u001b[49m\n\u001b[32m    602\u001b[39m \u001b[43m        \u001b[49m\u001b[43mposition_embeddings\u001b[49m\u001b[43m=\u001b[49m\u001b[43mposition_embeddings\u001b[49m\u001b[43m,\u001b[49m\n\u001b[32m    603\u001b[39m \u001b[43m        \u001b[49m\u001b[43m*\u001b[49m\u001b[43m*\u001b[49m\u001b[43mflash_attn_kwargs\u001b[49m\u001b[43m,\u001b[49m\n\u001b[32m    604\u001b[39m \u001b[43m    \u001b[49m\u001b[43m)\u001b[49m\n\u001b[32m    606\u001b[39m hidden_states = layer_outputs[\u001b[32m0\u001b[39m]\n\u001b[32m    608\u001b[39m \u001b[38;5;28;01mif\u001b[39;00m output_attentions:\n",
      "\u001b[36mFile \u001b[39m\u001b[32mc:\\Users\\anshu_r9i5971\\Desktop\\Python\\NewsGan\\.venv\\Lib\\site-packages\\torch\\nn\\modules\\module.py:1739\u001b[39m, in \u001b[36mModule._wrapped_call_impl\u001b[39m\u001b[34m(self, *args, **kwargs)\u001b[39m\n\u001b[32m   1737\u001b[39m     \u001b[38;5;28;01mreturn\u001b[39;00m \u001b[38;5;28mself\u001b[39m._compiled_call_impl(*args, **kwargs)  \u001b[38;5;66;03m# type: ignore[misc]\u001b[39;00m\n\u001b[32m   1738\u001b[39m \u001b[38;5;28;01melse\u001b[39;00m:\n\u001b[32m-> \u001b[39m\u001b[32m1739\u001b[39m     \u001b[38;5;28;01mreturn\u001b[39;00m \u001b[38;5;28;43mself\u001b[39;49m\u001b[43m.\u001b[49m\u001b[43m_call_impl\u001b[49m\u001b[43m(\u001b[49m\u001b[43m*\u001b[49m\u001b[43margs\u001b[49m\u001b[43m,\u001b[49m\u001b[43m \u001b[49m\u001b[43m*\u001b[49m\u001b[43m*\u001b[49m\u001b[43mkwargs\u001b[49m\u001b[43m)\u001b[49m\n",
      "\u001b[36mFile \u001b[39m\u001b[32mc:\\Users\\anshu_r9i5971\\Desktop\\Python\\NewsGan\\.venv\\Lib\\site-packages\\torch\\nn\\modules\\module.py:1750\u001b[39m, in \u001b[36mModule._call_impl\u001b[39m\u001b[34m(self, *args, **kwargs)\u001b[39m\n\u001b[32m   1745\u001b[39m \u001b[38;5;66;03m# If we don't have any hooks, we want to skip the rest of the logic in\u001b[39;00m\n\u001b[32m   1746\u001b[39m \u001b[38;5;66;03m# this function, and just call forward.\u001b[39;00m\n\u001b[32m   1747\u001b[39m \u001b[38;5;28;01mif\u001b[39;00m \u001b[38;5;129;01mnot\u001b[39;00m (\u001b[38;5;28mself\u001b[39m._backward_hooks \u001b[38;5;129;01mor\u001b[39;00m \u001b[38;5;28mself\u001b[39m._backward_pre_hooks \u001b[38;5;129;01mor\u001b[39;00m \u001b[38;5;28mself\u001b[39m._forward_hooks \u001b[38;5;129;01mor\u001b[39;00m \u001b[38;5;28mself\u001b[39m._forward_pre_hooks\n\u001b[32m   1748\u001b[39m         \u001b[38;5;129;01mor\u001b[39;00m _global_backward_pre_hooks \u001b[38;5;129;01mor\u001b[39;00m _global_backward_hooks\n\u001b[32m   1749\u001b[39m         \u001b[38;5;129;01mor\u001b[39;00m _global_forward_hooks \u001b[38;5;129;01mor\u001b[39;00m _global_forward_pre_hooks):\n\u001b[32m-> \u001b[39m\u001b[32m1750\u001b[39m     \u001b[38;5;28;01mreturn\u001b[39;00m \u001b[43mforward_call\u001b[49m\u001b[43m(\u001b[49m\u001b[43m*\u001b[49m\u001b[43margs\u001b[49m\u001b[43m,\u001b[49m\u001b[43m \u001b[49m\u001b[43m*\u001b[49m\u001b[43m*\u001b[49m\u001b[43mkwargs\u001b[49m\u001b[43m)\u001b[49m\n\u001b[32m   1752\u001b[39m result = \u001b[38;5;28;01mNone\u001b[39;00m\n\u001b[32m   1753\u001b[39m called_always_called_hooks = \u001b[38;5;28mset\u001b[39m()\n",
      "\u001b[36mFile \u001b[39m\u001b[32mc:\\Users\\anshu_r9i5971\\Desktop\\Python\\NewsGan\\.venv\\Lib\\site-packages\\transformers\\models\\llama\\modeling_llama.py:336\u001b[39m, in \u001b[36mLlamaDecoderLayer.forward\u001b[39m\u001b[34m(self, hidden_states, attention_mask, position_ids, past_key_value, output_attentions, use_cache, cache_position, position_embeddings, **kwargs)\u001b[39m\n\u001b[32m    333\u001b[39m hidden_states = \u001b[38;5;28mself\u001b[39m.input_layernorm(hidden_states)\n\u001b[32m    335\u001b[39m \u001b[38;5;66;03m# Self Attention\u001b[39;00m\n\u001b[32m--> \u001b[39m\u001b[32m336\u001b[39m hidden_states, self_attn_weights = \u001b[38;5;28;43mself\u001b[39;49m\u001b[43m.\u001b[49m\u001b[43mself_attn\u001b[49m\u001b[43m(\u001b[49m\n\u001b[32m    337\u001b[39m \u001b[43m    \u001b[49m\u001b[43mhidden_states\u001b[49m\u001b[43m=\u001b[49m\u001b[43mhidden_states\u001b[49m\u001b[43m,\u001b[49m\n\u001b[32m    338\u001b[39m \u001b[43m    \u001b[49m\u001b[43mattention_mask\u001b[49m\u001b[43m=\u001b[49m\u001b[43mattention_mask\u001b[49m\u001b[43m,\u001b[49m\n\u001b[32m    339\u001b[39m \u001b[43m    \u001b[49m\u001b[43mposition_ids\u001b[49m\u001b[43m=\u001b[49m\u001b[43mposition_ids\u001b[49m\u001b[43m,\u001b[49m\n\u001b[32m    340\u001b[39m \u001b[43m    \u001b[49m\u001b[43mpast_key_value\u001b[49m\u001b[43m=\u001b[49m\u001b[43mpast_key_value\u001b[49m\u001b[43m,\u001b[49m\n\u001b[32m    341\u001b[39m \u001b[43m    \u001b[49m\u001b[43moutput_attentions\u001b[49m\u001b[43m=\u001b[49m\u001b[43moutput_attentions\u001b[49m\u001b[43m,\u001b[49m\n\u001b[32m    342\u001b[39m \u001b[43m    \u001b[49m\u001b[43muse_cache\u001b[49m\u001b[43m=\u001b[49m\u001b[43muse_cache\u001b[49m\u001b[43m,\u001b[49m\n\u001b[32m    343\u001b[39m \u001b[43m    \u001b[49m\u001b[43mcache_position\u001b[49m\u001b[43m=\u001b[49m\u001b[43mcache_position\u001b[49m\u001b[43m,\u001b[49m\n\u001b[32m    344\u001b[39m \u001b[43m    \u001b[49m\u001b[43mposition_embeddings\u001b[49m\u001b[43m=\u001b[49m\u001b[43mposition_embeddings\u001b[49m\u001b[43m,\u001b[49m\n\u001b[32m    345\u001b[39m \u001b[43m    \u001b[49m\u001b[43m*\u001b[49m\u001b[43m*\u001b[49m\u001b[43mkwargs\u001b[49m\u001b[43m,\u001b[49m\n\u001b[32m    346\u001b[39m \u001b[43m\u001b[49m\u001b[43m)\u001b[49m\n\u001b[32m    347\u001b[39m hidden_states = residual + hidden_states\n\u001b[32m    349\u001b[39m \u001b[38;5;66;03m# Fully Connected\u001b[39;00m\n",
      "\u001b[36mFile \u001b[39m\u001b[32mc:\\Users\\anshu_r9i5971\\Desktop\\Python\\NewsGan\\.venv\\Lib\\site-packages\\torch\\nn\\modules\\module.py:1739\u001b[39m, in \u001b[36mModule._wrapped_call_impl\u001b[39m\u001b[34m(self, *args, **kwargs)\u001b[39m\n\u001b[32m   1737\u001b[39m     \u001b[38;5;28;01mreturn\u001b[39;00m \u001b[38;5;28mself\u001b[39m._compiled_call_impl(*args, **kwargs)  \u001b[38;5;66;03m# type: ignore[misc]\u001b[39;00m\n\u001b[32m   1738\u001b[39m \u001b[38;5;28;01melse\u001b[39;00m:\n\u001b[32m-> \u001b[39m\u001b[32m1739\u001b[39m     \u001b[38;5;28;01mreturn\u001b[39;00m \u001b[38;5;28;43mself\u001b[39;49m\u001b[43m.\u001b[49m\u001b[43m_call_impl\u001b[49m\u001b[43m(\u001b[49m\u001b[43m*\u001b[49m\u001b[43margs\u001b[49m\u001b[43m,\u001b[49m\u001b[43m \u001b[49m\u001b[43m*\u001b[49m\u001b[43m*\u001b[49m\u001b[43mkwargs\u001b[49m\u001b[43m)\u001b[49m\n",
      "\u001b[36mFile \u001b[39m\u001b[32mc:\\Users\\anshu_r9i5971\\Desktop\\Python\\NewsGan\\.venv\\Lib\\site-packages\\torch\\nn\\modules\\module.py:1750\u001b[39m, in \u001b[36mModule._call_impl\u001b[39m\u001b[34m(self, *args, **kwargs)\u001b[39m\n\u001b[32m   1745\u001b[39m \u001b[38;5;66;03m# If we don't have any hooks, we want to skip the rest of the logic in\u001b[39;00m\n\u001b[32m   1746\u001b[39m \u001b[38;5;66;03m# this function, and just call forward.\u001b[39;00m\n\u001b[32m   1747\u001b[39m \u001b[38;5;28;01mif\u001b[39;00m \u001b[38;5;129;01mnot\u001b[39;00m (\u001b[38;5;28mself\u001b[39m._backward_hooks \u001b[38;5;129;01mor\u001b[39;00m \u001b[38;5;28mself\u001b[39m._backward_pre_hooks \u001b[38;5;129;01mor\u001b[39;00m \u001b[38;5;28mself\u001b[39m._forward_hooks \u001b[38;5;129;01mor\u001b[39;00m \u001b[38;5;28mself\u001b[39m._forward_pre_hooks\n\u001b[32m   1748\u001b[39m         \u001b[38;5;129;01mor\u001b[39;00m _global_backward_pre_hooks \u001b[38;5;129;01mor\u001b[39;00m _global_backward_hooks\n\u001b[32m   1749\u001b[39m         \u001b[38;5;129;01mor\u001b[39;00m _global_forward_hooks \u001b[38;5;129;01mor\u001b[39;00m _global_forward_pre_hooks):\n\u001b[32m-> \u001b[39m\u001b[32m1750\u001b[39m     \u001b[38;5;28;01mreturn\u001b[39;00m \u001b[43mforward_call\u001b[49m\u001b[43m(\u001b[49m\u001b[43m*\u001b[49m\u001b[43margs\u001b[49m\u001b[43m,\u001b[49m\u001b[43m \u001b[49m\u001b[43m*\u001b[49m\u001b[43m*\u001b[49m\u001b[43mkwargs\u001b[49m\u001b[43m)\u001b[49m\n\u001b[32m   1752\u001b[39m result = \u001b[38;5;28;01mNone\u001b[39;00m\n\u001b[32m   1753\u001b[39m called_always_called_hooks = \u001b[38;5;28mset\u001b[39m()\n",
      "\u001b[36mFile \u001b[39m\u001b[32mc:\\Users\\anshu_r9i5971\\Desktop\\Python\\NewsGan\\.venv\\Lib\\site-packages\\transformers\\models\\llama\\modeling_llama.py:270\u001b[39m, in \u001b[36mLlamaAttention.forward\u001b[39m\u001b[34m(self, hidden_states, position_embeddings, attention_mask, past_key_value, cache_position, **kwargs)\u001b[39m\n\u001b[32m    267\u001b[39m input_shape = hidden_states.shape[:-\u001b[32m1\u001b[39m]\n\u001b[32m    268\u001b[39m hidden_shape = (*input_shape, -\u001b[32m1\u001b[39m, \u001b[38;5;28mself\u001b[39m.head_dim)\n\u001b[32m--> \u001b[39m\u001b[32m270\u001b[39m query_states = \u001b[38;5;28;43mself\u001b[39;49m\u001b[43m.\u001b[49m\u001b[43mq_proj\u001b[49m\u001b[43m(\u001b[49m\u001b[43mhidden_states\u001b[49m\u001b[43m)\u001b[49m.view(hidden_shape).transpose(\u001b[32m1\u001b[39m, \u001b[32m2\u001b[39m)\n\u001b[32m    271\u001b[39m key_states = \u001b[38;5;28mself\u001b[39m.k_proj(hidden_states).view(hidden_shape).transpose(\u001b[32m1\u001b[39m, \u001b[32m2\u001b[39m)\n\u001b[32m    272\u001b[39m value_states = \u001b[38;5;28mself\u001b[39m.v_proj(hidden_states).view(hidden_shape).transpose(\u001b[32m1\u001b[39m, \u001b[32m2\u001b[39m)\n",
      "\u001b[36mFile \u001b[39m\u001b[32mc:\\Users\\anshu_r9i5971\\Desktop\\Python\\NewsGan\\.venv\\Lib\\site-packages\\torch\\nn\\modules\\module.py:1739\u001b[39m, in \u001b[36mModule._wrapped_call_impl\u001b[39m\u001b[34m(self, *args, **kwargs)\u001b[39m\n\u001b[32m   1737\u001b[39m     \u001b[38;5;28;01mreturn\u001b[39;00m \u001b[38;5;28mself\u001b[39m._compiled_call_impl(*args, **kwargs)  \u001b[38;5;66;03m# type: ignore[misc]\u001b[39;00m\n\u001b[32m   1738\u001b[39m \u001b[38;5;28;01melse\u001b[39;00m:\n\u001b[32m-> \u001b[39m\u001b[32m1739\u001b[39m     \u001b[38;5;28;01mreturn\u001b[39;00m \u001b[38;5;28;43mself\u001b[39;49m\u001b[43m.\u001b[49m\u001b[43m_call_impl\u001b[49m\u001b[43m(\u001b[49m\u001b[43m*\u001b[49m\u001b[43margs\u001b[49m\u001b[43m,\u001b[49m\u001b[43m \u001b[49m\u001b[43m*\u001b[49m\u001b[43m*\u001b[49m\u001b[43mkwargs\u001b[49m\u001b[43m)\u001b[49m\n",
      "\u001b[36mFile \u001b[39m\u001b[32mc:\\Users\\anshu_r9i5971\\Desktop\\Python\\NewsGan\\.venv\\Lib\\site-packages\\torch\\nn\\modules\\module.py:1750\u001b[39m, in \u001b[36mModule._call_impl\u001b[39m\u001b[34m(self, *args, **kwargs)\u001b[39m\n\u001b[32m   1745\u001b[39m \u001b[38;5;66;03m# If we don't have any hooks, we want to skip the rest of the logic in\u001b[39;00m\n\u001b[32m   1746\u001b[39m \u001b[38;5;66;03m# this function, and just call forward.\u001b[39;00m\n\u001b[32m   1747\u001b[39m \u001b[38;5;28;01mif\u001b[39;00m \u001b[38;5;129;01mnot\u001b[39;00m (\u001b[38;5;28mself\u001b[39m._backward_hooks \u001b[38;5;129;01mor\u001b[39;00m \u001b[38;5;28mself\u001b[39m._backward_pre_hooks \u001b[38;5;129;01mor\u001b[39;00m \u001b[38;5;28mself\u001b[39m._forward_hooks \u001b[38;5;129;01mor\u001b[39;00m \u001b[38;5;28mself\u001b[39m._forward_pre_hooks\n\u001b[32m   1748\u001b[39m         \u001b[38;5;129;01mor\u001b[39;00m _global_backward_pre_hooks \u001b[38;5;129;01mor\u001b[39;00m _global_backward_hooks\n\u001b[32m   1749\u001b[39m         \u001b[38;5;129;01mor\u001b[39;00m _global_forward_hooks \u001b[38;5;129;01mor\u001b[39;00m _global_forward_pre_hooks):\n\u001b[32m-> \u001b[39m\u001b[32m1750\u001b[39m     \u001b[38;5;28;01mreturn\u001b[39;00m \u001b[43mforward_call\u001b[49m\u001b[43m(\u001b[49m\u001b[43m*\u001b[49m\u001b[43margs\u001b[49m\u001b[43m,\u001b[49m\u001b[43m \u001b[49m\u001b[43m*\u001b[49m\u001b[43m*\u001b[49m\u001b[43mkwargs\u001b[49m\u001b[43m)\u001b[49m\n\u001b[32m   1752\u001b[39m result = \u001b[38;5;28;01mNone\u001b[39;00m\n\u001b[32m   1753\u001b[39m called_always_called_hooks = \u001b[38;5;28mset\u001b[39m()\n",
      "\u001b[36mFile \u001b[39m\u001b[32mc:\\Users\\anshu_r9i5971\\Desktop\\Python\\NewsGan\\.venv\\Lib\\site-packages\\peft\\tuners\\lora\\layer.py:609\u001b[39m, in \u001b[36mLinear.forward\u001b[39m\u001b[34m(self, x, *args, **kwargs)\u001b[39m\n\u001b[32m    607\u001b[39m     result = \u001b[38;5;28mself\u001b[39m.base_layer(x, *args, **kwargs)\n\u001b[32m    608\u001b[39m \u001b[38;5;28;01melse\u001b[39;00m:\n\u001b[32m--> \u001b[39m\u001b[32m609\u001b[39m     result = \u001b[38;5;28;43mself\u001b[39;49m\u001b[43m.\u001b[49m\u001b[43mbase_layer\u001b[49m\u001b[43m(\u001b[49m\u001b[43mx\u001b[49m\u001b[43m,\u001b[49m\u001b[43m \u001b[49m\u001b[43m*\u001b[49m\u001b[43margs\u001b[49m\u001b[43m,\u001b[49m\u001b[43m \u001b[49m\u001b[43m*\u001b[49m\u001b[43m*\u001b[49m\u001b[43mkwargs\u001b[49m\u001b[43m)\u001b[49m\n\u001b[32m    610\u001b[39m     torch_result_dtype = result.dtype\n\u001b[32m    611\u001b[39m     \u001b[38;5;28;01mfor\u001b[39;00m active_adapter \u001b[38;5;129;01min\u001b[39;00m \u001b[38;5;28mself\u001b[39m.active_adapters:\n",
      "\u001b[36mFile \u001b[39m\u001b[32mc:\\Users\\anshu_r9i5971\\Desktop\\Python\\NewsGan\\.venv\\Lib\\site-packages\\torch\\nn\\modules\\module.py:1739\u001b[39m, in \u001b[36mModule._wrapped_call_impl\u001b[39m\u001b[34m(self, *args, **kwargs)\u001b[39m\n\u001b[32m   1737\u001b[39m     \u001b[38;5;28;01mreturn\u001b[39;00m \u001b[38;5;28mself\u001b[39m._compiled_call_impl(*args, **kwargs)  \u001b[38;5;66;03m# type: ignore[misc]\u001b[39;00m\n\u001b[32m   1738\u001b[39m \u001b[38;5;28;01melse\u001b[39;00m:\n\u001b[32m-> \u001b[39m\u001b[32m1739\u001b[39m     \u001b[38;5;28;01mreturn\u001b[39;00m \u001b[38;5;28;43mself\u001b[39;49m\u001b[43m.\u001b[49m\u001b[43m_call_impl\u001b[49m\u001b[43m(\u001b[49m\u001b[43m*\u001b[49m\u001b[43margs\u001b[49m\u001b[43m,\u001b[49m\u001b[43m \u001b[49m\u001b[43m*\u001b[49m\u001b[43m*\u001b[49m\u001b[43mkwargs\u001b[49m\u001b[43m)\u001b[49m\n",
      "\u001b[36mFile \u001b[39m\u001b[32mc:\\Users\\anshu_r9i5971\\Desktop\\Python\\NewsGan\\.venv\\Lib\\site-packages\\torch\\nn\\modules\\module.py:1750\u001b[39m, in \u001b[36mModule._call_impl\u001b[39m\u001b[34m(self, *args, **kwargs)\u001b[39m\n\u001b[32m   1745\u001b[39m \u001b[38;5;66;03m# If we don't have any hooks, we want to skip the rest of the logic in\u001b[39;00m\n\u001b[32m   1746\u001b[39m \u001b[38;5;66;03m# this function, and just call forward.\u001b[39;00m\n\u001b[32m   1747\u001b[39m \u001b[38;5;28;01mif\u001b[39;00m \u001b[38;5;129;01mnot\u001b[39;00m (\u001b[38;5;28mself\u001b[39m._backward_hooks \u001b[38;5;129;01mor\u001b[39;00m \u001b[38;5;28mself\u001b[39m._backward_pre_hooks \u001b[38;5;129;01mor\u001b[39;00m \u001b[38;5;28mself\u001b[39m._forward_hooks \u001b[38;5;129;01mor\u001b[39;00m \u001b[38;5;28mself\u001b[39m._forward_pre_hooks\n\u001b[32m   1748\u001b[39m         \u001b[38;5;129;01mor\u001b[39;00m _global_backward_pre_hooks \u001b[38;5;129;01mor\u001b[39;00m _global_backward_hooks\n\u001b[32m   1749\u001b[39m         \u001b[38;5;129;01mor\u001b[39;00m _global_forward_hooks \u001b[38;5;129;01mor\u001b[39;00m _global_forward_pre_hooks):\n\u001b[32m-> \u001b[39m\u001b[32m1750\u001b[39m     \u001b[38;5;28;01mreturn\u001b[39;00m \u001b[43mforward_call\u001b[49m\u001b[43m(\u001b[49m\u001b[43m*\u001b[49m\u001b[43margs\u001b[49m\u001b[43m,\u001b[49m\u001b[43m \u001b[49m\u001b[43m*\u001b[49m\u001b[43m*\u001b[49m\u001b[43mkwargs\u001b[49m\u001b[43m)\u001b[49m\n\u001b[32m   1752\u001b[39m result = \u001b[38;5;28;01mNone\u001b[39;00m\n\u001b[32m   1753\u001b[39m called_always_called_hooks = \u001b[38;5;28mset\u001b[39m()\n",
      "\u001b[36mFile \u001b[39m\u001b[32mc:\\Users\\anshu_r9i5971\\Desktop\\Python\\NewsGan\\.venv\\Lib\\site-packages\\torch\\nn\\modules\\linear.py:125\u001b[39m, in \u001b[36mLinear.forward\u001b[39m\u001b[34m(self, input)\u001b[39m\n\u001b[32m    124\u001b[39m \u001b[38;5;28;01mdef\u001b[39;00m\u001b[38;5;250m \u001b[39m\u001b[34mforward\u001b[39m(\u001b[38;5;28mself\u001b[39m, \u001b[38;5;28minput\u001b[39m: Tensor) -> Tensor:\n\u001b[32m--> \u001b[39m\u001b[32m125\u001b[39m     \u001b[38;5;28;01mreturn\u001b[39;00m \u001b[43mF\u001b[49m\u001b[43m.\u001b[49m\u001b[43mlinear\u001b[49m\u001b[43m(\u001b[49m\u001b[38;5;28;43minput\u001b[39;49m\u001b[43m,\u001b[49m\u001b[43m \u001b[49m\u001b[38;5;28;43mself\u001b[39;49m\u001b[43m.\u001b[49m\u001b[43mweight\u001b[49m\u001b[43m,\u001b[49m\u001b[43m \u001b[49m\u001b[38;5;28;43mself\u001b[39;49m\u001b[43m.\u001b[49m\u001b[43mbias\u001b[49m\u001b[43m)\u001b[49m\n",
      "\u001b[31mKeyboardInterrupt\u001b[39m: "
     ]
    }
   ],
   "source": [
    "# Training function\n",
    "def train_model(model, tokenizer, dataloader, num_epochs, save_path):\n",
    "    torch.cuda.empty_cache()\n",
    "    \n",
    "    model.train()\n",
    "    best_loss = float('inf')\n",
    "\n",
    "    for epoch in range(num_epochs):\n",
    "        total_loss = 0.0\n",
    "        tqdm_loop = tqdm(dataloader, total= len(dataloader))\n",
    "        \n",
    "        for batch in tqdm_loop:\n",
    "            input_ids = batch['input_ids'].to(MY_DEVICE)\n",
    "            attention_mask = batch['attention_mask'].to(MY_DEVICE)\n",
    "            labels = batch['labels'].to(MY_DEVICE)\n",
    "\n",
    "            outputs = model(input_ids= input_ids, attention_mask= attention_mask, labels= labels)\n",
    "\n",
    "            loss = outputs.loss\n",
    "\n",
    "            #### Discriminator section ####\n",
    "            with torch.no_grad():\n",
    "                batch_prompts = batch[\"prompts\"]  # get original prompts list\n",
    "\n",
    "                # Tokenize prompts only\n",
    "                prompt_encodings = tokenizer(batch_prompts, return_tensors= RETURN_TENSORS, max_length= MAX_SEQUENCE_LENGTH,\n",
    "                                            padding= PADDING, truncation= TRUNCATION).to(MY_DEVICE)\n",
    "\n",
    "                # Generate paraphrased output\n",
    "                generated_ids = model.generate(\n",
    "                    input_ids=prompt_encodings[\"input_ids\"],\n",
    "                    attention_mask=prompt_encodings[\"attention_mask\"],\n",
    "                    max_new_tokens= MAX_SEQUENCE_LENGTH,\n",
    "                )\n",
    "\n",
    "                generated_texts = tokenizer.batch_decode(generated_ids, skip_special_tokens=True)\n",
    "                print(generated_texts)\n",
    "\n",
    "            break\n",
    "            #### #### #### ####\n",
    "\n",
    "            combined_loss = loss # + Disc_loss\n",
    "            combined_loss.backward()\n",
    "\n",
    "            # Gradient clipping\n",
    "            clip_grad_norm_(generator.parameters(), max_norm= GRAD_CLIP)\n",
    "\n",
    "            optimizer.step()\n",
    "            optimizer.zero_grad()\n",
    "\n",
    "\n",
    "            # Print loss at the end of epoch\n",
    "            tqdm_loop.set_description(f\"Epoch [{epoch+1}/{num_epochs}\")\n",
    "            tqdm_loop.set_postfix(loss= combined_loss.item())\n",
    "            \n",
    "            total_loss += combined_loss.item()\n",
    "\n",
    "        avg_loss = total_loss / len(dataloader)\n",
    "        print(f\"Epoch {epoch+1}/{num_epochs} - Loss: {avg_loss:.4f}\")\n",
    "\n",
    "        # Save best model\n",
    "        if avg_loss < best_loss:\n",
    "            best_loss = avg_loss\n",
    "            model.save_pretrained(save_path)\n",
    "            print(f\"model saved after epoch {epoch+1}\")\n",
    "\n",
    "    print(\"Training Done!\")\n",
    "\n",
    "train_model(generator, tokenizer, sentence_loader, NUMBER_OF_EPOCHS, SAVE_DIR)"
   ]
  }
 ],
 "metadata": {
  "kernelspec": {
   "display_name": ".venv",
   "language": "python",
   "name": "python3"
  },
  "language_info": {
   "codemirror_mode": {
    "name": "ipython",
    "version": 3
   },
   "file_extension": ".py",
   "mimetype": "text/x-python",
   "name": "python",
   "nbconvert_exporter": "python",
   "pygments_lexer": "ipython3",
   "version": "3.12.0"
  }
 },
 "nbformat": 4,
 "nbformat_minor": 2
}
