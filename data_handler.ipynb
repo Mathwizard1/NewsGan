{
 "cells": [
  {
   "cell_type": "markdown",
   "metadata": {},
   "source": [
    "### News data"
   ]
  },
  {
   "cell_type": "code",
   "execution_count": 1,
   "metadata": {},
   "outputs": [],
   "source": [
    "import pandas as pd"
   ]
  },
  {
   "cell_type": "code",
   "execution_count": 2,
   "metadata": {},
   "outputs": [
    {
     "name": "stdout",
     "output_type": "stream",
     "text": [
      "<class 'pandas.core.frame.DataFrame'>\n",
      "RangeIndex: 2430 entries, 0 to 2429\n",
      "Data columns (total 5 columns):\n",
      " #   Column                        Non-Null Count  Dtype \n",
      "---  ------                        --------------  ----- \n",
      " 0   DocText                       2430 non-null   object\n",
      " 1   Label                         2430 non-null   int64 \n",
      " 2   fake_news                     2427 non-null   object\n",
      " 3   factual_content               2427 non-null   object\n",
      " 4   counter_narrative_with_facts  2430 non-null   object\n",
      "dtypes: int64(1), object(4)\n",
      "memory usage: 95.1+ KB\n",
      "2430\n"
     ]
    }
   ],
   "source": [
    "df = pd.read_csv(\"gpt_snopes_with_facts.csv\")\n",
    "df.info()\n",
    "print(df['Label'].sum())\n",
    "df.drop('Label', axis= 1, inplace= True)"
   ]
  },
  {
   "cell_type": "code",
   "execution_count": 4,
   "metadata": {},
   "outputs": [
    {
     "data": {
      "text/html": [
       "<div>\n",
       "<style scoped>\n",
       "    .dataframe tbody tr th:only-of-type {\n",
       "        vertical-align: middle;\n",
       "    }\n",
       "\n",
       "    .dataframe tbody tr th {\n",
       "        vertical-align: top;\n",
       "    }\n",
       "\n",
       "    .dataframe thead th {\n",
       "        text-align: right;\n",
       "    }\n",
       "</style>\n",
       "<table border=\"1\" class=\"dataframe\">\n",
       "  <thead>\n",
       "    <tr style=\"text-align: right;\">\n",
       "      <th></th>\n",
       "      <th>DocText</th>\n",
       "      <th>fake_news</th>\n",
       "      <th>factual_content</th>\n",
       "      <th>counter_narrative_with_facts</th>\n",
       "    </tr>\n",
       "  </thead>\n",
       "  <tbody>\n",
       "    <tr>\n",
       "      <th>0</th>\n",
       "      <td>Did a Russian Prostitute Say Donald Trump Was ...</td>\n",
       "      <td>[\\n     'A Russian sex worker said Donald Trum...</td>\n",
       "      <td>'There was no truth to this story, which origi...</td>\n",
       "      <td>Counter-Narrative: I understand that stories a...</td>\n",
       "    </tr>\n",
       "    <tr>\n",
       "      <th>1</th>\n",
       "      <td>George Soros Said: I'm Going to Bring Down the...</td>\n",
       "      <td>[\\n     \"George Soros Said: I'm Going to Bring...</td>\n",
       "      <td>\"We found no evidence that any such interview ...</td>\n",
       "      <td>Counter-Narrative: I appreciate your engagemen...</td>\n",
       "    </tr>\n",
       "    <tr>\n",
       "      <th>2</th>\n",
       "      <td>Leftist Activists Demand New York Museum Take ...</td>\n",
       "      <td>[\\n     \"After 'demanding that southern states...</td>\n",
       "      <td>\"However, nowhere in the Daily Wire piece was ...</td>\n",
       "      <td>Counter-Narrative: I appreciate your engagemen...</td>\n",
       "    </tr>\n",
       "    <tr>\n",
       "      <th>3</th>\n",
       "      <td>Did a Study Show That Hillary Clinton Received...</td>\n",
       "      <td>[\\n     \"An academic study cited by conservati...</td>\n",
       "      <td>\"The study Spicer referred to was mistakenly i...</td>\n",
       "      <td>Counter-Narrative: Thank you for sharing your ...</td>\n",
       "    </tr>\n",
       "    <tr>\n",
       "      <th>4</th>\n",
       "      <td>Lawmakers Criminalize Peaceful Protest? Lawmak...</td>\n",
       "      <td>[\\n     'Lawmakers Criminalize Peaceful Protes...</td>\n",
       "      <td>'Lawmakers are creating harsher criminal penal...</td>\n",
       "      <td>Counter-Narrative: I appreciate your engagemen...</td>\n",
       "    </tr>\n",
       "  </tbody>\n",
       "</table>\n",
       "</div>"
      ],
      "text/plain": [
       "                                             DocText  \\\n",
       "0  Did a Russian Prostitute Say Donald Trump Was ...   \n",
       "1  George Soros Said: I'm Going to Bring Down the...   \n",
       "2  Leftist Activists Demand New York Museum Take ...   \n",
       "3  Did a Study Show That Hillary Clinton Received...   \n",
       "4  Lawmakers Criminalize Peaceful Protest? Lawmak...   \n",
       "\n",
       "                                           fake_news  \\\n",
       "0  [\\n     'A Russian sex worker said Donald Trum...   \n",
       "1  [\\n     \"George Soros Said: I'm Going to Bring...   \n",
       "2  [\\n     \"After 'demanding that southern states...   \n",
       "3  [\\n     \"An academic study cited by conservati...   \n",
       "4  [\\n     'Lawmakers Criminalize Peaceful Protes...   \n",
       "\n",
       "                                     factual_content  \\\n",
       "0  'There was no truth to this story, which origi...   \n",
       "1  \"We found no evidence that any such interview ...   \n",
       "2  \"However, nowhere in the Daily Wire piece was ...   \n",
       "3  \"The study Spicer referred to was mistakenly i...   \n",
       "4  'Lawmakers are creating harsher criminal penal...   \n",
       "\n",
       "                        counter_narrative_with_facts  \n",
       "0  Counter-Narrative: I understand that stories a...  \n",
       "1  Counter-Narrative: I appreciate your engagemen...  \n",
       "2  Counter-Narrative: I appreciate your engagemen...  \n",
       "3  Counter-Narrative: Thank you for sharing your ...  \n",
       "4  Counter-Narrative: I appreciate your engagemen...  "
      ]
     },
     "execution_count": 4,
     "metadata": {},
     "output_type": "execute_result"
    }
   ],
   "source": [
    "df.head()"
   ]
  }
 ],
 "metadata": {
  "kernelspec": {
   "display_name": ".venv",
   "language": "python",
   "name": "python3"
  },
  "language_info": {
   "codemirror_mode": {
    "name": "ipython",
    "version": 3
   },
   "file_extension": ".py",
   "mimetype": "text/x-python",
   "name": "python",
   "nbconvert_exporter": "python",
   "pygments_lexer": "ipython3",
   "version": "3.12.0"
  }
 },
 "nbformat": 4,
 "nbformat_minor": 2
}
